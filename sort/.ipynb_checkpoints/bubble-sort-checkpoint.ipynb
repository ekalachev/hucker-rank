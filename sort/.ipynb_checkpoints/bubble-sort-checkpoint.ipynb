{
 "cells": [
  {
   "cell_type": "markdown",
   "metadata": {},
   "source": [
    "# Bubble Sort"
   ]
  },
  {
   "cell_type": "markdown",
   "metadata": {},
   "source": [
    "Bubble sort time complexity: O(n^2)"
   ]
  },
  {
   "cell_type": "code",
   "execution_count": 10,
   "metadata": {},
   "outputs": [],
   "source": [
    "def swap(arr, i, j):\n",
    "    arr[i], arr[j] = arr[j], arr[i]\n",
    "\n",
    "def bubbleSort(arr):\n",
    "    isSorted = False\n",
    "    lastUnsorted = len(arr) - 1\n",
    "    \n",
    "    while not isSorted:\n",
    "        isSorted = True\n",
    "        \n",
    "        for i in range(0, lastUnsorted):\n",
    "            if arr[i] > arr[i + 1]:\n",
    "                swap(arr, i, i + 1)\n",
    "                \n",
    "                isSorted = False\n",
    "                lastUnsorted -= 1\n",
    "    \n",
    "    return arr"
   ]
  },
  {
   "cell_type": "code",
   "execution_count": 11,
   "metadata": {},
   "outputs": [],
   "source": [
    "assert bubbleSort([2,1,7,2,4]) == [1, 2, 2, 4, 7]"
   ]
  },
  {
   "cell_type": "markdown",
   "metadata": {},
   "source": [
    "## Task:\n",
    "\n",
    "Given an array of integers, sort the array in ascending order using the Bubble Sort algorithm above. Once sorted, print the following three lines:\n",
    "- Array is sorted in numSwaps swaps., where numSwaps is the number of swaps that took place.\n",
    "- First Element: firstElement, where firstElement is the first element in the sorted array.\n",
    "- Last Element: lastElement, where lastElement is the last element in the sorted array."
   ]
  },
  {
   "cell_type": "code",
   "execution_count": 12,
   "metadata": {},
   "outputs": [],
   "source": [
    "def bubbleSortHR(arr):\n",
    "    isSorted = False\n",
    "    swapcounter = 0\n",
    "    \n",
    "    while not isSorted:\n",
    "        isSorted = True\n",
    "        \n",
    "        for i in range(0, len(arr) - 1):\n",
    "            if arr[i] > arr[i + 1]:\n",
    "                swap(arr, i, i + 1)\n",
    "                swapcounter += 1\n",
    "                isSorted = False\n",
    "    \n",
    "    print(\"Array is sorted in {} swaps.\".format(swapcounter))\n",
    "    print(\"First Element: {}\".format(arr[0]))\n",
    "    print(\"Last Element: {}\".format(arr[len(arr) - 1]))"
   ]
  },
  {
   "cell_type": "code",
   "execution_count": 13,
   "metadata": {},
   "outputs": [
    {
     "name": "stdout",
     "output_type": "stream",
     "text": [
      "Array is sorted in 3 swaps.\n",
      "First Element: 1\n",
      "Last Element: 6\n"
     ]
    }
   ],
   "source": [
    "bubbleSortHR([6,4,1])"
   ]
  },
  {
   "cell_type": "code",
   "execution_count": null,
   "metadata": {},
   "outputs": [],
   "source": []
  }
 ],
 "metadata": {
  "kernelspec": {
   "display_name": "Python 3",
   "language": "python",
   "name": "python3"
  },
  "language_info": {
   "codemirror_mode": {
    "name": "ipython",
    "version": 3
   },
   "file_extension": ".py",
   "mimetype": "text/x-python",
   "name": "python",
   "nbconvert_exporter": "python",
   "pygments_lexer": "ipython3",
   "version": "3.7.3"
  }
 },
 "nbformat": 4,
 "nbformat_minor": 2
}
