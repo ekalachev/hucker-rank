{
 "cells": [
  {
   "cell_type": "markdown",
   "metadata": {},
   "source": [
    "# Big Sorting\n",
    "\n",
    "Consider an array of numeric strings where each string is a positive number with anywhere from 1 to $10^{6}$ digits. Sort the array's elements in non-decreasing, or ascending order of their integer values and print each element of the sorted array on a new line.\n",
    "\n",
    "Function Description\n",
    "\n",
    "Complete the bigSorting function in the editor below. It should return the sorted string array.\n",
    "\n",
    "bigSorting has the following parameter(s):\n",
    "\n",
    "unsorted: an unsorted array of integers as strings"
   ]
  },
  {
   "cell_type": "code",
   "execution_count": 11,
   "metadata": {},
   "outputs": [],
   "source": [
    "import functools\n",
    "\n",
    "def custom_compare(a, b):\n",
    "    if len(a) < len(b):\n",
    "        return -1\n",
    "    if len(a) > len(b):\n",
    "        return 1    \n",
    "    if len(a) < 19:\n",
    "        return int(a) - int(b)\n",
    "    \n",
    "    i = 0\n",
    "    while True:\n",
    "        # length of digits - less than max int\n",
    "        a1 = a[i:i+18]\n",
    "        b1 = b[i:i+18]\n",
    "\n",
    "        i += 18\n",
    "\n",
    "        inta1 = int(a1)\n",
    "        intb1 = int(b1)\n",
    "\n",
    "        if inta1 < intb1:\n",
    "            return -1\n",
    "        elif inta1 > intb1:\n",
    "            return 1\n",
    "\n",
    "        if len(a1) < 18:\n",
    "            return 0\n",
    "\n",
    "def bigSorting(unsorted):\n",
    "    return sorted(unsorted, key=functools.cmp_to_key(custom_compare))"
   ]
  },
  {
   "cell_type": "code",
   "execution_count": 12,
   "metadata": {},
   "outputs": [],
   "source": [
    "unsorted = ['6', '31415926535897932384626433832795', '1', '3', '10', '3', '5']"
   ]
  },
  {
   "cell_type": "code",
   "execution_count": 13,
   "metadata": {},
   "outputs": [],
   "source": [
    "assert bigSorting(unsorted) == ['1', '3', '3', '5', '6', '10', '31415926535897932384626433832795']"
   ]
  },
  {
   "cell_type": "code",
   "execution_count": 14,
   "metadata": {},
   "outputs": [],
   "source": [
    "unsorted = ['8',\n",
    "            '1',\n",
    "            '2',\n",
    "            '100',\n",
    "            '12303479849857341718340192371',\n",
    "            '3084193741082937',\n",
    "            '3084193741082938',\n",
    "            '111',\n",
    "            '200']"
   ]
  },
  {
   "cell_type": "code",
   "execution_count": 15,
   "metadata": {},
   "outputs": [],
   "source": [
    "assert bigSorting(unsorted) == ['1',\n",
    " '2',\n",
    " '8',\n",
    " '100',\n",
    " '111',\n",
    " '200',\n",
    " '3084193741082937',\n",
    " '3084193741082938',\n",
    " '12303479849857341718340192371']"
   ]
  },
  {
   "cell_type": "code",
   "execution_count": null,
   "metadata": {},
   "outputs": [],
   "source": []
  }
 ],
 "metadata": {
  "kernelspec": {
   "display_name": "Python 3",
   "language": "python",
   "name": "python3"
  },
  "language_info": {
   "codemirror_mode": {
    "name": "ipython",
    "version": 3
   },
   "file_extension": ".py",
   "mimetype": "text/x-python",
   "name": "python",
   "nbconvert_exporter": "python",
   "pygments_lexer": "ipython3",
   "version": "3.7.3"
  }
 },
 "nbformat": 4,
 "nbformat_minor": 2
}
