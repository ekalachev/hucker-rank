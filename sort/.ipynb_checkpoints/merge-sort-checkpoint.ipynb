{
 "cells": [
  {
   "cell_type": "markdown",
   "metadata": {},
   "source": [
    "# Merge sort\n",
    "\n",
    "- Time complexity: O(n log n)\n",
    "- Space complexity: O(n)"
   ]
  },
  {
   "cell_type": "code",
   "execution_count": 89,
   "metadata": {},
   "outputs": [],
   "source": [
    "def merge_sort(arr):\n",
    "    if len(arr) == 1:\n",
    "        return arr\n",
    "    \n",
    "    mid = len(arr) // 2\n",
    "    \n",
    "    return merge(merge_sort(arr[0:mid]), merge_sort(arr[mid:len(arr)]))\n",
    "\n",
    "def merge(left, right):\n",
    "    l_index = 0\n",
    "    r_index = 0\n",
    "    result = []\n",
    "    \n",
    "    while l_index < len(left) or r_index < len(right):\n",
    "        if (r_index == len(right) or\n",
    "                l_index < len(left) and left[l_index] < right[r_index]):\n",
    "            result.append(left[l_index])\n",
    "            l_index += 1\n",
    "        else:\n",
    "            result.append(right[r_index])\n",
    "            r_index += 1\n",
    "    \n",
    "    return result"
   ]
  },
  {
   "cell_type": "code",
   "execution_count": 90,
   "metadata": {},
   "outputs": [],
   "source": [
    "arr = [99, 44, 6, 2, 1, 5, 63, 87, 283, 5, 4, 0]"
   ]
  },
  {
   "cell_type": "code",
   "execution_count": 91,
   "metadata": {},
   "outputs": [],
   "source": [
    "assert merge_sort(arr) == [0, 1, 2, 4, 5, 5, 6, 44, 63, 87, 99, 283]"
   ]
  },
  {
   "cell_type": "code",
   "execution_count": null,
   "metadata": {},
   "outputs": [],
   "source": []
  }
 ],
 "metadata": {
  "kernelspec": {
   "display_name": "Python 3",
   "language": "python",
   "name": "python3"
  },
  "language_info": {
   "codemirror_mode": {
    "name": "ipython",
    "version": 3
   },
   "file_extension": ".py",
   "mimetype": "text/x-python",
   "name": "python",
   "nbconvert_exporter": "python",
   "pygments_lexer": "ipython3",
   "version": "3.7.3"
  }
 },
 "nbformat": 4,
 "nbformat_minor": 2
}
