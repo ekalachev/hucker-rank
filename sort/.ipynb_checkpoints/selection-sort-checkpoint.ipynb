{
 "cells": [
  {
   "cell_type": "markdown",
   "metadata": {},
   "source": [
    "# Selection sort"
   ]
  },
  {
   "cell_type": "markdown",
   "metadata": {},
   "source": [
    "### Selection sert has:\n",
    "- time complexity: O(n^2)\n",
    "- space complexity: O(1)"
   ]
  },
  {
   "cell_type": "code",
   "execution_count": 15,
   "metadata": {},
   "outputs": [],
   "source": [
    "def selection_sort(arr):\n",
    "    length = len(arr)\n",
    "    \n",
    "    for i in range(length - 1):\n",
    "        minimum_index = i\n",
    "        \n",
    "        for j in range(i + 1, length):\n",
    "            if arr[j] < arr[minimum_index]:\n",
    "                minimum_index = j\n",
    "        \n",
    "        swap(arr, i, minimum_index)\n",
    "\n",
    "def swap(arr, i, j):\n",
    "    arr[i], arr[j] = arr[j], arr[i]"
   ]
  },
  {
   "cell_type": "code",
   "execution_count": 16,
   "metadata": {},
   "outputs": [],
   "source": [
    "arr = [8, 5, 2, 6, 283, 9, 3, 1, 4, 0, 7]"
   ]
  },
  {
   "cell_type": "code",
   "execution_count": 17,
   "metadata": {},
   "outputs": [],
   "source": [
    "selection_sort(arr)\n",
    "assert arr == [0, 1, 2, 3, 4, 5, 6, 7, 8, 9, 283]"
   ]
  },
  {
   "cell_type": "code",
   "execution_count": null,
   "metadata": {},
   "outputs": [],
   "source": []
  }
 ],
 "metadata": {
  "kernelspec": {
   "display_name": "Python 3",
   "language": "python",
   "name": "python3"
  },
  "language_info": {
   "codemirror_mode": {
    "name": "ipython",
    "version": 3
   },
   "file_extension": ".py",
   "mimetype": "text/x-python",
   "name": "python",
   "nbconvert_exporter": "python",
   "pygments_lexer": "ipython3",
   "version": "3.7.3"
  }
 },
 "nbformat": 4,
 "nbformat_minor": 2
}
