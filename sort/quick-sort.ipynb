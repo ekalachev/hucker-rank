{
 "cells": [
  {
   "cell_type": "markdown",
   "metadata": {},
   "source": [
    "# Quick Sort"
   ]
  },
  {
   "cell_type": "code",
   "execution_count": 25,
   "metadata": {},
   "outputs": [],
   "source": [
    "def quicksort(arr):\n",
    "    qs(arr, 0, len(arr) - 1)\n",
    "    \n",
    "    return arr\n",
    "\n",
    "\n",
    "def qs(arr, left, right):\n",
    "    if left >= right:\n",
    "        return\n",
    "    \n",
    "    pivot = arr[(left + right) // 2]\n",
    "    index = partition(arr, left, right, pivot)\n",
    "    \n",
    "    qs(arr, left, index - 1)\n",
    "    qs(arr, index, right)\n",
    "\n",
    "def partition(arr, left, right, pivot):\n",
    "    while left <= right:\n",
    "        while arr[left] < pivot:\n",
    "            left += 1\n",
    "        \n",
    "        while arr[right] > pivot:\n",
    "            right -= 1\n",
    "        \n",
    "        if left <= right:\n",
    "            swap(arr, left, right)\n",
    "            left += 1\n",
    "            right -= 1\n",
    "    \n",
    "    return left\n",
    "\n",
    "def swap(arr, i, j):\n",
    "    arr[i], arr[j] = arr[j], arr[i]"
   ]
  },
  {
   "cell_type": "code",
   "execution_count": 27,
   "metadata": {},
   "outputs": [],
   "source": [
    "arr = [8,3,2,1,5,7]\n",
    "assert quicksort(arr) == [1, 2, 3, 5, 7, 8]"
   ]
  },
  {
   "cell_type": "code",
   "execution_count": null,
   "metadata": {},
   "outputs": [],
   "source": []
  }
 ],
 "metadata": {
  "kernelspec": {
   "display_name": "Python 3",
   "language": "python",
   "name": "python3"
  },
  "language_info": {
   "codemirror_mode": {
    "name": "ipython",
    "version": 3
   },
   "file_extension": ".py",
   "mimetype": "text/x-python",
   "name": "python",
   "nbconvert_exporter": "python",
   "pygments_lexer": "ipython3",
   "version": "3.7.3"
  }
 },
 "nbformat": 4,
 "nbformat_minor": 2
}
