{
 "cells": [
  {
   "cell_type": "markdown",
   "metadata": {},
   "source": [
    "# Find median"
   ]
  },
  {
   "cell_type": "code",
   "execution_count": 7,
   "metadata": {},
   "outputs": [],
   "source": [
    "import heapq"
   ]
  },
  {
   "cell_type": "code",
   "execution_count": 12,
   "metadata": {},
   "outputs": [],
   "source": [
    "def get_median(vals):\n",
    "    maxh = [-float(vals[0])]\n",
    "    minh = []\n",
    "       \n",
    "    for i in range(1, len(vals)):\n",
    "        insert(vals[i], minh, maxh)\n",
    "        rebalance(minh, maxh)\n",
    "    \n",
    "    return calculate_median(minh, maxh)\n",
    "\n",
    "def insert(val, minh, maxh):\n",
    "    if val >= -maxh[0]:\n",
    "        heapq.heappush(minh,val)\n",
    "    else:\n",
    "        heapq.heappush(maxh,-val)\n",
    "\n",
    "def calculate_median(minh, maxh):\n",
    "    if len(maxh) == len(minh):\n",
    "        return float(-maxh[0] + minh[0]) / 2\n",
    "    elif len(maxh) == len(minh) + 1:\n",
    "        return float(-maxh[0])\n",
    "    elif len(minh) == len(maxh) + 1:\n",
    "        return float(minh[0])\n",
    "\n",
    "def rebalance(minh, maxh):\n",
    "    smallerh, biggerh = smaller_bigger(minh, maxh)\n",
    "    if len(biggerh) - len(smallerh) >= 2:\n",
    "        heapq.heappush(smallerh,-heapq.heappop(biggerh))\n",
    "\n",
    "def smaller_bigger(minh, maxh):\n",
    "    if len(minh) > len(maxh):\n",
    "        return (maxh, minh)\n",
    "    else:\n",
    "        return (minh, maxh)"
   ]
  },
  {
   "cell_type": "code",
   "execution_count": 13,
   "metadata": {},
   "outputs": [],
   "source": [
    "arr = [2, 3, 8, 4, 2, 3, 6, 4, 5]"
   ]
  },
  {
   "cell_type": "code",
   "execution_count": 14,
   "metadata": {},
   "outputs": [],
   "source": [
    "assert get_median(arr) == 4"
   ]
  },
  {
   "cell_type": "code",
   "execution_count": 15,
   "metadata": {},
   "outputs": [],
   "source": [
    "arr2 = [2, 3, 4, 2, 3, 6, 4, 5]"
   ]
  },
  {
   "cell_type": "code",
   "execution_count": 16,
   "metadata": {},
   "outputs": [],
   "source": [
    "assert get_median(arr2) == 3.5"
   ]
  },
  {
   "cell_type": "code",
   "execution_count": null,
   "metadata": {},
   "outputs": [],
   "source": []
  }
 ],
 "metadata": {
  "kernelspec": {
   "display_name": "Python 3",
   "language": "python",
   "name": "python3"
  },
  "language_info": {
   "codemirror_mode": {
    "name": "ipython",
    "version": 3
   },
   "file_extension": ".py",
   "mimetype": "text/x-python",
   "name": "python",
   "nbconvert_exporter": "python",
   "pygments_lexer": "ipython3",
   "version": "3.7.3"
  }
 },
 "nbformat": 4,
 "nbformat_minor": 2
}
