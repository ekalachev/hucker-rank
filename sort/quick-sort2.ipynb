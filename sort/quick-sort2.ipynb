{
 "cells": [
  {
   "cell_type": "markdown",
   "metadata": {},
   "source": [
    "# Quick sort\n",
    "- Time complexity:\n",
    "    - Average: O(n log n)\n",
    "    - Worst: (n^2)\n",
    "- Space complexity: O(log n)"
   ]
  },
  {
   "cell_type": "code",
   "execution_count": 29,
   "metadata": {},
   "outputs": [],
   "source": [
    "def quick_sort(arr):\n",
    "    sort(arr, 0, len(arr) - 1)\n",
    "\n",
    "def sort(arr, l_index, r_index):\n",
    "    if l_index >= r_index:\n",
    "        return\n",
    "    \n",
    "    pivot_index = (l_index + r_index) // 2\n",
    "    mid_index = partition(arr, pivot_index, l_index, r_index)\n",
    "    \n",
    "    sort(arr, l_index, mid_index - 1)\n",
    "    sort(arr, mid_index, r_index)\n",
    "\n",
    "def partition(arr, pivot_index, l_index, r_index):\n",
    "    print('l_index: ' + str(l_index))\n",
    "    print('r_index: ' + str(r_index))\n",
    "    \n",
    "    while l_index <= r_index:\n",
    "        while arr[l_index] < arr[pivot_index]:\n",
    "            l_index += 1\n",
    "        while arr[r_index] > arr[pivot_index]:\n",
    "            r_index -= 1\n",
    "        \n",
    "        if l_index <= r_index:\n",
    "            swap(arr, l_index, r_index)\n",
    "            l_index += 1\n",
    "            r_index -= 1\n",
    "    \n",
    "    print('pivot: ' + str(pivot_index))\n",
    "    print(arr)\n",
    "    \n",
    "    return l_index\n",
    "            \n",
    "\n",
    "def swap(arr, i, j):\n",
    "    arr[i], arr[j] = arr[j], arr[i]"
   ]
  },
  {
   "cell_type": "code",
   "execution_count": 30,
   "metadata": {},
   "outputs": [],
   "source": [
    "arr = [99, 44, 6, 2, 1, 5, 63, 87, 283, 4, 0]"
   ]
  },
  {
   "cell_type": "code",
   "execution_count": 31,
   "metadata": {},
   "outputs": [
    {
     "name": "stdout",
     "output_type": "stream",
     "text": [
      "l_index: 0\n",
      "r_index: 10\n",
      "pivot: 5\n",
      "[0, 4, 5, 2, 1, 6, 63, 87, 283, 44, 99]\n",
      "l_index: 0\n",
      "r_index: 4\n",
      "pivot: 2\n",
      "[0, 4, 1, 2, 5, 6, 63, 87, 283, 44, 99]\n",
      "l_index: 0\n",
      "r_index: 2\n",
      "pivot: 1\n",
      "[0, 1, 4, 2, 5, 6, 63, 87, 283, 44, 99]\n",
      "l_index: 0\n",
      "r_index: 1\n",
      "pivot: 0\n",
      "[0, 1, 4, 2, 5, 6, 63, 87, 283, 44, 99]\n",
      "l_index: 3\n",
      "r_index: 4\n",
      "pivot: 3\n",
      "[0, 1, 4, 2, 5, 6, 63, 87, 283, 44, 99]\n",
      "l_index: 5\n",
      "r_index: 10\n",
      "pivot: 7\n",
      "[0, 1, 4, 2, 5, 6, 63, 44, 283, 87, 99]\n",
      "l_index: 5\n",
      "r_index: 7\n",
      "pivot: 6\n",
      "[0, 1, 4, 2, 5, 6, 44, 63, 283, 87, 99]\n",
      "l_index: 5\n",
      "r_index: 6\n",
      "pivot: 5\n",
      "[0, 1, 4, 2, 5, 6, 44, 63, 283, 87, 99]\n",
      "l_index: 8\n",
      "r_index: 10\n",
      "pivot: 9\n",
      "[0, 1, 4, 2, 5, 6, 44, 63, 87, 283, 99]\n",
      "l_index: 9\n",
      "r_index: 10\n",
      "pivot: 9\n",
      "[0, 1, 4, 2, 5, 6, 44, 63, 87, 99, 283]\n",
      "[0, 1, 4, 2, 5, 6, 44, 63, 87, 99, 283]\n"
     ]
    }
   ],
   "source": [
    "quick_sort(arr)\n",
    "print(arr)"
   ]
  },
  {
   "cell_type": "code",
   "execution_count": null,
   "metadata": {},
   "outputs": [],
   "source": []
  }
 ],
 "metadata": {
  "kernelspec": {
   "display_name": "Python 3",
   "language": "python",
   "name": "python3"
  },
  "language_info": {
   "codemirror_mode": {
    "name": "ipython",
    "version": 3
   },
   "file_extension": ".py",
   "mimetype": "text/x-python",
   "name": "python",
   "nbconvert_exporter": "python",
   "pygments_lexer": "ipython3",
   "version": "3.7.3"
  }
 },
 "nbformat": 4,
 "nbformat_minor": 2
}
