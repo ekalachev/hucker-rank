{
 "cells": [
  {
   "cell_type": "markdown",
   "metadata": {},
   "source": [
    "# Counting sort\n",
    "Counting sort is efficient if the range of input data is not significantly greater than the number of objects to be sorted.\n",
    "- time complexity: **O(n + k)** where **k** is a range between min and max of an array\n",
    "- space complexity: **O(k)**"
   ]
  },
  {
   "cell_type": "code",
   "execution_count": 112,
   "metadata": {},
   "outputs": [],
   "source": [
    "def counting_sort(arr):\n",
    "    # find min and max\n",
    "    minimum, maximum = find_min_max(arr)\n",
    "       \n",
    "    #count numbers in main array\n",
    "    count_arr = [0] * (maximum - minimum + 1)\n",
    "    for i in range(len(arr)):\n",
    "        index = arr[i] - minimum\n",
    "        count_arr[index] += 1\n",
    "    \n",
    "    # sum counts\n",
    "    for i in range(1, len(count_arr)):\n",
    "        count_arr[i] = count_arr[i] + count_arr[i - 1]\n",
    "    \n",
    "    result = [0] * len(arr)\n",
    "    for i in range(len(arr)):\n",
    "        result_index = count_arr[arr[i] - minimum] - 1\n",
    "        result[result_index] = arr[i]\n",
    "        count_arr[arr[i] - minimum] -= 1\n",
    "    \n",
    "    return result\n",
    "\n",
    "\n",
    "def find_min_max(arr):\n",
    "    minimum, maximum = arr[0], arr[0]\n",
    "    \n",
    "    for i in range(len(arr)):\n",
    "        if minimum > arr[i]:\n",
    "            minimum = arr[i]\n",
    "        if maximum < arr[i]:\n",
    "            maximum = arr[i]\n",
    "    \n",
    "    return (minimum, maximum)"
   ]
  },
  {
   "cell_type": "code",
   "execution_count": 113,
   "metadata": {},
   "outputs": [],
   "source": [
    "arr = [9, 4, 10, 8, 2, 4]"
   ]
  },
  {
   "cell_type": "code",
   "execution_count": 115,
   "metadata": {},
   "outputs": [],
   "source": [
    "assert counting_sort(arr) == [2, 4, 4, 8, 9, 10]"
   ]
  },
  {
   "cell_type": "code",
   "execution_count": null,
   "metadata": {},
   "outputs": [],
   "source": []
  }
 ],
 "metadata": {
  "kernelspec": {
   "display_name": "Python 3",
   "language": "python",
   "name": "python3"
  },
  "language_info": {
   "codemirror_mode": {
    "name": "ipython",
    "version": 3
   },
   "file_extension": ".py",
   "mimetype": "text/x-python",
   "name": "python",
   "nbconvert_exporter": "python",
   "pygments_lexer": "ipython3",
   "version": "3.7.3"
  }
 },
 "nbformat": 4,
 "nbformat_minor": 2
}
