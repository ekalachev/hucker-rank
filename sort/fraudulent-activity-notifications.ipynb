{
 "cells": [
  {
   "cell_type": "markdown",
   "metadata": {},
   "source": [
    "# Fraudulent Activity Notifications\n",
    "\n",
    "HackerLand National Bank has a simple policy for warning clients about possible fraudulent account activity. If the amount spent by a client on a particular day is greater than or equal to 2x the client's median spending for a trailing number of days, they send the client a notification about potential fraud. The bank doesn't send the client any notifications until they have at least that trailing number of prior days' transaction data.\n",
    "\n",
    "Given the number of trailing days d and a client's total daily expenditures for a period of n days, find and print the number of times the client will receive a notification over all n days.\n",
    "\n",
    "For example, d = 3 and expenditures = [10,20,30,40,50]. On the first three days, they just collect spending data. At day 4, we have trailing expenditures of [10,20,30]. The median is 20 and the day's expenditure is 40. Because 40 >= 2 * 20, there will be a notice. The next day, our trailing expenditures are [20,30,40] and the expenditures are 50. This is less than 2 * 30 so no notice will be sent. Over the period, there was one notice sent.\n",
    "\n",
    "Note: The median of a list of numbers can be found by arranging all the numbers from smallest to greatest. If there is an odd number of numbers, the middle one is picked. If there is an even number of numbers, median is then defined to be the average of the two middle values."
   ]
  },
  {
   "cell_type": "code",
   "execution_count": 27,
   "metadata": {},
   "outputs": [],
   "source": [
    "from typing import List"
   ]
  },
  {
   "cell_type": "code",
   "execution_count": 36,
   "metadata": {},
   "outputs": [],
   "source": [
    "def getMedian(subArr: List[int], subArrLength: int) -> int:\n",
    "    subArr = sorted(subArr)\n",
    "    index = subArrLength // 2\n",
    "    \n",
    "    return (subArr[index] + subArr[index + 1]) // 2 if subArrLength % 2 == 0 else subArr[index]\n",
    "    \n",
    "def activityNotifications(arr: List[int], d: int) -> int:\n",
    "    arrLength = len(arr)\n",
    "    notificationCount = 0\n",
    "    \n",
    "    for i in range(0, arrLength):\n",
    "        nextDayIndex = i + d\n",
    "        \n",
    "        subArr = arr[i:nextDayIndex]\n",
    "        subArrLength = len(subArr)\n",
    "        \n",
    "        if subArrLength < d:\n",
    "            break\n",
    "        \n",
    "        median = getMedian(subArr, subArrLength)\n",
    "        \n",
    "        if arrLength > nextDayIndex and arr[nextDayIndex] >= (median * 2):\n",
    "            notificationCount += 1\n",
    "    \n",
    "    return notificationCount"
   ]
  },
  {
   "cell_type": "code",
   "execution_count": 37,
   "metadata": {},
   "outputs": [
    {
     "data": {
      "text/plain": [
       "1"
      ]
     },
     "execution_count": 37,
     "metadata": {},
     "output_type": "execute_result"
    }
   ],
   "source": [
    "activityNotifications([10, 20, 30, 40, 50], 3) # One time"
   ]
  },
  {
   "cell_type": "code",
   "execution_count": 38,
   "metadata": {},
   "outputs": [
    {
     "data": {
      "text/plain": [
       "0"
      ]
     },
     "execution_count": 38,
     "metadata": {},
     "output_type": "execute_result"
    }
   ],
   "source": [
    "activityNotifications([1, 2, 3, 4, 4], 4) # Zero times"
   ]
  },
  {
   "cell_type": "code",
   "execution_count": 40,
   "metadata": {},
   "outputs": [
    {
     "data": {
      "text/plain": [
       "2"
      ]
     },
     "execution_count": 40,
     "metadata": {},
     "output_type": "execute_result"
    }
   ],
   "source": [
    "activityNotifications([2, 3, 4, 2, 3, 6, 8, 4, 5], 5) # Two times"
   ]
  },
  {
   "cell_type": "code",
   "execution_count": 41,
   "metadata": {},
   "outputs": [
    {
     "data": {
      "text/plain": [
       "[2, 2, 3, 3, 4, 4, 5, 6, 8]"
      ]
     },
     "execution_count": 41,
     "metadata": {},
     "output_type": "execute_result"
    }
   ],
   "source": [
    "sorted([2, 3, 4, 2, 3, 6, 8, 4, 5])"
   ]
  },
  {
   "cell_type": "code",
   "execution_count": 10,
   "metadata": {},
   "outputs": [],
   "source": [
    "from heapq import heappush, heappop\n",
    "\n",
    "def remove(minh, maxh, num):\n",
    "    try:\n",
    "        minh.remove(num)\n",
    "    except:\n",
    "        maxh.remove(-num)        \n",
    "    \n",
    "    rebalance(minh, maxh)\n",
    "\n",
    "def insert(val, minh, maxh):\n",
    "    if val >= -maxh[0]:\n",
    "        heappush(minh, val)\n",
    "    else:\n",
    "        heappush(maxh, -val)\n",
    "    \n",
    "    rebalance(minh, maxh)\n",
    "\n",
    "def add_cache(cache, val, heap):\n",
    "    if val in cache:\n",
    "        cache[val].add((heap, index))\n",
    "\n",
    "def calculate_median(minh, maxh):\n",
    "    if len(maxh) == len(minh):\n",
    "        return float(-maxh[0] + minh[0]) / 2    \n",
    "    elif len(maxh) > len(minh):\n",
    "        return float(-maxh[0])\n",
    "    else:\n",
    "        return float(minh[0])\n",
    "\n",
    "def rebalance(minh, maxh):\n",
    "    smallerh, biggerh = smaller_bigger(minh, maxh)\n",
    "    if len(biggerh) - len(smallerh) >= 2:\n",
    "        heappush(smallerh,-heappop(biggerh))\n",
    "\n",
    "def smaller_bigger(minh, maxh):\n",
    "    if len(minh) > len(maxh):\n",
    "        return (maxh, minh)\n",
    "    else:\n",
    "        return (minh, maxh)\n",
    "    \n",
    "def activity_notifications(arr, d):\n",
    "    notifications = 0\n",
    "\n",
    "    maxh = [-float(arr[0])]\n",
    "    minh = []\n",
    "    \n",
    "    for i in range(1, d):\n",
    "        insert(arr[i], minh, maxh)\n",
    "\n",
    "    for i in range(d, len(arr), 1):\n",
    "        med = calculate_median(minh, maxh)\n",
    "        if med * 2 <= arr[i]:\n",
    "            notifications += 1\n",
    "        \n",
    "        remove(minh, maxh, arr[i - d])\n",
    "        insert(arr[i], minh, maxh)\n",
    "    \n",
    "    return notifications"
   ]
  },
  {
   "cell_type": "code",
   "execution_count": 11,
   "metadata": {},
   "outputs": [
    {
     "data": {
      "text/plain": [
       "1"
      ]
     },
     "execution_count": 11,
     "metadata": {},
     "output_type": "execute_result"
    }
   ],
   "source": [
    "activity_notifications([10, 20, 30, 40, 50], 3)"
   ]
  },
  {
   "cell_type": "code",
   "execution_count": null,
   "metadata": {},
   "outputs": [],
   "source": []
  }
 ],
 "metadata": {
  "kernelspec": {
   "display_name": "Python 3",
   "language": "python",
   "name": "python3"
  },
  "language_info": {
   "codemirror_mode": {
    "name": "ipython",
    "version": 3
   },
   "file_extension": ".py",
   "mimetype": "text/x-python",
   "name": "python",
   "nbconvert_exporter": "python",
   "pygments_lexer": "ipython3",
   "version": "3.7.3"
  }
 },
 "nbformat": 4,
 "nbformat_minor": 2
}
