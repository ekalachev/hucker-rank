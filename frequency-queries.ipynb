{
 "cells": [
  {
   "cell_type": "markdown",
   "metadata": {},
   "source": [
    "# Frequency Queries"
   ]
  },
  {
   "cell_type": "raw",
   "metadata": {},
   "source": [
    "You are given q queries. Each query is of the form two integers described below:\n",
    "- 1 x: Insert x in your data structure.\n",
    "- 2 y: Delete one occurence of y from your data structure, if present.\n",
    "- 3 z: Check if any integer is present whose frequency is exactly . If yes, print 1 else 0.\n",
    "\n",
    "The queries are given in the form of a 2-D array queries of size q where queries[i][0] contains the operation, and queries[i][1] contains the data element. For example, you are given array queries = [(1,1), (2,2), (3,2), (1,1), (1,1), (2,1), (3,2)].\n",
    "\n",
    "The results of each operation are:\n",
    "Operation   Array   Output\n",
    "(1,1)       [1]\n",
    "(2,2)       [1]\n",
    "(3,2)                   0\n",
    "(1,1)       [1,1]\n",
    "(1,1)       [1,1,1]\n",
    "(2,1)       [1,1]\n",
    "(3,2)                   1\n",
    "\n",
    "Return an array with the output: [0, 1]."
   ]
  },
  {
   "cell_type": "code",
   "execution_count": 23,
   "metadata": {},
   "outputs": [],
   "source": [
    "arr = [(1,3), (2,3), (3,2), (1,4), (1,5), (1,5), (1,4), (3,2), (2,4), (3,2)]"
   ]
  },
  {
   "cell_type": "code",
   "execution_count": 24,
   "metadata": {},
   "outputs": [],
   "source": [
    "def freqQuery(queries):\n",
    "    d = {}\n",
    "    result = []\n",
    "\n",
    "    for query in queries:        \n",
    "        if query[0] == 1:\n",
    "            if query[1] in d:\n",
    "                d[query[1]] += 1\n",
    "            else:\n",
    "                d[query[1]] = 1\n",
    "        elif query[0] == 2 and query[1] in d:\n",
    "            if d[query[1]] > 0:\n",
    "                d[query[1]] -= 1\n",
    "        elif query[0] == 3:\n",
    "            if len([key for key, val in d.items() if val == query[1]]) > 0:\n",
    "                result.append(1)\n",
    "            else:\n",
    "                result.append(0)\n",
    "\n",
    "    return result"
   ]
  },
  {
   "cell_type": "code",
   "execution_count": 25,
   "metadata": {},
   "outputs": [
    {
     "data": {
      "text/plain": [
       "[0, 1, 1]"
      ]
     },
     "execution_count": 25,
     "metadata": {},
     "output_type": "execute_result"
    }
   ],
   "source": [
    "freqQuery(arr)"
   ]
  },
  {
   "cell_type": "code",
   "execution_count": 26,
   "metadata": {},
   "outputs": [],
   "source": [
    "arr = [(1, 5), (1, 6), (3, 2), (1, 10), (1, 10), (1, 6), (2, 5), (3, 2)]"
   ]
  },
  {
   "cell_type": "code",
   "execution_count": 27,
   "metadata": {},
   "outputs": [
    {
     "data": {
      "text/plain": [
       "[0, 1]"
      ]
     },
     "execution_count": 27,
     "metadata": {},
     "output_type": "execute_result"
    }
   ],
   "source": [
    "freqQuery(arr)"
   ]
  },
  {
   "cell_type": "code",
   "execution_count": 28,
   "metadata": {},
   "outputs": [],
   "source": [
    "arr = [(3, 4), (2, 1003), (1, 16), (3, 1)]"
   ]
  },
  {
   "cell_type": "code",
   "execution_count": 29,
   "metadata": {},
   "outputs": [
    {
     "data": {
      "text/plain": [
       "[0, 1]"
      ]
     },
     "execution_count": 29,
     "metadata": {},
     "output_type": "execute_result"
    }
   ],
   "source": [
    "freqQuery(arr)"
   ]
  },
  {
   "cell_type": "code",
   "execution_count": null,
   "metadata": {},
   "outputs": [],
   "source": []
  }
 ],
 "metadata": {
  "kernelspec": {
   "display_name": "Python 3",
   "language": "python",
   "name": "python3"
  },
  "language_info": {
   "codemirror_mode": {
    "name": "ipython",
    "version": 3
   },
   "file_extension": ".py",
   "mimetype": "text/x-python",
   "name": "python",
   "nbconvert_exporter": "python",
   "pygments_lexer": "ipython3",
   "version": "3.7.3"
  }
 },
 "nbformat": 4,
 "nbformat_minor": 2
}
