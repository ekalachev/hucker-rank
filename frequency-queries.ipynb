{
 "cells": [
  {
   "cell_type": "markdown",
   "metadata": {},
   "source": [
    "# Frequency Queries"
   ]
  },
  {
   "cell_type": "markdown",
   "metadata": {},
   "source": [
    "You are given q queries. Each query is of the form two integers described below:\n",
    "- 1 x: Insert x in your data structure.\n",
    "- 2 y: Delete one occurence of y from your data structure, if present.\n",
    "- 3 z: Check if any integer is present whose frequency is exactly . If yes, print 1 else 0.\n",
    "\n",
    "The queries are given in the form of a 2-D array queries of size q where queries[i][0] contains the operation, and queries[i][1] contains the data element. For example, you are given array queries = [(1,1), (2,2), (3,2), (1,1), (1,1), (2,1), (3,2)].\n",
    "\n",
    "The results of each operation are:\n",
    "\n",
    "| Operation | Array | Output |\n",
    "| --- | --- | --- |\n",
    "| (1,1) | [1] | _ |\n",
    "| (2,2) | [1] | _ |\n",
    "| (3,2) | [1] | 0 |\n",
    "| (1,1) | [1,1] | _ |\n",
    "| (1,1) | [1,1,1] | _ |\n",
    "| (2,1) | [1,1] | _ |\n",
    "| (3,2) | [1,1] | 1 |\n",
    "\n",
    "Return an array with the output: [0, 1]."
   ]
  },
  {
   "cell_type": "markdown",
   "metadata": {},
   "source": [
    "#### Data:"
   ]
  },
  {
   "cell_type": "code",
   "execution_count": 1,
   "metadata": {},
   "outputs": [],
   "source": [
    "arr = [(1,3), (2,3), (3,2), (1,4), (1,5), (1,5), (1,4), (3,2), (2,4), (3,2)] # Correct answer: [0, 1, 1]\n",
    "arr2 = [(1, 5), (1, 6), (3, 2), (1, 10), (1, 10), (1, 6), (2, 5), (3, 2)] # Correct answer: [0, 1]\n",
    "arr3 = [(3, 4), (2, 1003), (1, 16), (3, 1)] # Correct answer: [0, 1]"
   ]
  },
  {
   "cell_type": "markdown",
   "metadata": {},
   "source": [
    "## Solutions:"
   ]
  },
  {
   "cell_type": "markdown",
   "metadata": {},
   "source": [
    "### Naive solution:"
   ]
  },
  {
   "cell_type": "code",
   "execution_count": 2,
   "metadata": {},
   "outputs": [],
   "source": [
    "def freqQueryNaive(queries):\n",
    "    d = {}\n",
    "    result = []\n",
    "\n",
    "    for query in queries:        \n",
    "        if query[0] == 1:\n",
    "            if query[1] in d:\n",
    "                d[query[1]] += 1\n",
    "            else:\n",
    "                d[query[1]] = 1\n",
    "        elif query[0] == 2 and query[1] in d:\n",
    "            if d[query[1]] > 0:\n",
    "                d[query[1]] -= 1\n",
    "        elif query[0] == 3:\n",
    "            if len([key for key, val in d.items() if val == query[1]]) > 0:\n",
    "                result.append(1)\n",
    "            else:\n",
    "                result.append(0)\n",
    "\n",
    "    return result"
   ]
  },
  {
   "cell_type": "markdown",
   "metadata": {},
   "source": [
    "#### Test for Naive solution:"
   ]
  },
  {
   "cell_type": "code",
   "execution_count": 3,
   "metadata": {},
   "outputs": [],
   "source": [
    "assert freqQueryNaive(arr) == [0, 1, 1]\n",
    "assert freqQueryNaive(arr2) == [0, 1]\n",
    "assert freqQueryNaive(arr3) == [0, 1]"
   ]
  },
  {
   "cell_type": "markdown",
   "metadata": {},
   "source": [
    "### Faster solution:"
   ]
  },
  {
   "cell_type": "code",
   "execution_count": 4,
   "metadata": {},
   "outputs": [],
   "source": [
    "def increaseCommand(d, d2, num):\n",
    "    if num in d:\n",
    "        decreaseD2(d[num], d2)\n",
    "        d[num] += 1\n",
    "    else:\n",
    "        d[num] = 1\n",
    "\n",
    "    increaseD2(d[num], d2)\n",
    "\n",
    "\n",
    "def decreaseCommand(d, d2, num):\n",
    "    decreaseD2(d[num], d2)\n",
    "    d[num] -= 1\n",
    "    increaseD2(d[num], d2)\n",
    "\n",
    "\n",
    "def checkCommand(d2, checkReport, num):\n",
    "    if num in d2 and d2[num] > 0:\n",
    "        checkReport.append(1)\n",
    "    else:\n",
    "        checkReport.append(0)\n",
    "    \n",
    "            \n",
    "def increaseD2(count, d2):               \n",
    "    if count not in d2:\n",
    "        d2[count] = 0\n",
    "    \n",
    "    d2[count] += 1\n",
    "\n",
    "\n",
    "def decreaseD2(count, d2):\n",
    "    if count in d2 and d2[count] > 0:\n",
    "        d2[count] -= 1\n",
    "\n",
    "\n",
    "def freqQuery(queries):\n",
    "    d = {}\n",
    "    d2 = {}\n",
    "    checkReport = []\n",
    "\n",
    "    for query in queries:\n",
    "        command = query[0]\n",
    "        num = query[1]\n",
    "        \n",
    "        if command == 1:\n",
    "            increaseCommand(d, d2, num)            \n",
    "        elif command == 2 and num in d and d[num] > 0:                \n",
    "            decreaseCommand(d, d2, num)\n",
    "        elif command == 3:\n",
    "            checkCommand(d2, checkReport, num)\n",
    "\n",
    "    return checkReport"
   ]
  },
  {
   "cell_type": "markdown",
   "metadata": {},
   "source": [
    "#### Tests for Faster solution:"
   ]
  },
  {
   "cell_type": "code",
   "execution_count": 5,
   "metadata": {},
   "outputs": [],
   "source": [
    "assert freqQuery(arr) == [0, 1, 1]\n",
    "assert freqQuery(arr2) == [0, 1]\n",
    "assert freqQuery(arr3) == [0, 1]"
   ]
  },
  {
   "cell_type": "code",
   "execution_count": null,
   "metadata": {},
   "outputs": [],
   "source": []
  }
 ],
 "metadata": {
  "kernelspec": {
   "display_name": "Python 3",
   "language": "python",
   "name": "python3"
  },
  "language_info": {
   "codemirror_mode": {
    "name": "ipython",
    "version": 3
   },
   "file_extension": ".py",
   "mimetype": "text/x-python",
   "name": "python",
   "nbconvert_exporter": "python",
   "pygments_lexer": "ipython3",
   "version": "3.7.3"
  }
 },
 "nbformat": 4,
 "nbformat_minor": 2
}
