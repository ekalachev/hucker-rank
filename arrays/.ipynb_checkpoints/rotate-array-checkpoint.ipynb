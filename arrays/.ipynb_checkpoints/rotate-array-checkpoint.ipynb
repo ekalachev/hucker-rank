{
 "cells": [
  {
   "cell_type": "markdown",
   "metadata": {},
   "source": [
    "# Rotate Array\n",
    "\n",
    "Given an array, rotate the array to the right by k steps, where k is non-negative.\n",
    "\n",
    "### Example 1:\n",
    "Input: [1,2,3,4,5,6,7] and k = 3\n",
    "\n",
    "Output: [5,6,7,1,2,3,4]\n",
    "\n",
    "#### Explanation:\n",
    "rotate 1 steps to the right: [7,1,2,3,4,5,6]\n",
    "\n",
    "rotate 2 steps to the right: [6,7,1,2,3,4,5]\n",
    "\n",
    "rotate 3 steps to the right: [5,6,7,1,2,3,4]\n",
    "\n",
    "### Example 2:\n",
    "Input: [-1,-100,3,99] and k = 2\n",
    "\n",
    "Output: [3,99,-1,-100]\n",
    "\n",
    "#### Explanation: \n",
    "rotate 1 steps to the right: [99,-1,-100,3]\n",
    "\n",
    "rotate 2 steps to the right: [3,99,-1,-100]\n",
    "\n",
    "### Note:\n",
    "Try to come up as many solutions as you can, there are at least 3 different ways to solve this problem.\n",
    "Could you do it in-place with O(1) extra space?"
   ]
  },
  {
   "cell_type": "markdown",
   "metadata": {},
   "source": [
    "### Solution:\n",
    "First of all, we will need a function for calculating the greatest common divisor."
   ]
  },
  {
   "cell_type": "code",
   "execution_count": 12,
   "metadata": {},
   "outputs": [],
   "source": [
    "from typing import List"
   ]
  },
  {
   "cell_type": "code",
   "execution_count": 13,
   "metadata": {},
   "outputs": [],
   "source": [
    "def getGCD(x: int, y: int) -> int:\n",
    "    # Euclidean Algorithm\n",
    "    while y:\n",
    "        x, y = y, x%y\n",
    "    return x"
   ]
  },
  {
   "cell_type": "code",
   "execution_count": 14,
   "metadata": {},
   "outputs": [],
   "source": [
    "assert getGCD(60, 48) == 12"
   ]
  },
  {
   "cell_type": "code",
   "execution_count": 56,
   "metadata": {},
   "outputs": [],
   "source": [
    "def leftRotate(nums: List[int], d: int) -> List[int]:\n",
    "    if nums is None:\n",
    "        return\n",
    "    \n",
    "    arrLength = len(nums)    \n",
    "    gcd = getGCD(arrLength, d)\n",
    "    \n",
    "    for i in range(gcd):\n",
    "        temp = nums[i]\n",
    "        j = i\n",
    "        while True:\n",
    "            k = j + d\n",
    "            if k >= arrLength:\n",
    "                k = k - arrLength\n",
    "            if k == i:\n",
    "                break\n",
    "            \n",
    "            nums[j] = nums[k]\n",
    "            j = k\n",
    "        \n",
    "        nums[j] = temp\n",
    "    \n",
    "    return nums"
   ]
  },
  {
   "cell_type": "code",
   "execution_count": 57,
   "metadata": {},
   "outputs": [],
   "source": [
    "def rightRotate(nums: List[int], d: int) -> List[int]:\n",
    "    if nums is None:\n",
    "        return\n",
    "    \n",
    "    arrLength = len(nums)    \n",
    "    gcd = getGCD(arrLength, d)\n",
    "    \n",
    "    \n",
    "    return nums"
   ]
  },
  {
   "cell_type": "code",
   "execution_count": 58,
   "metadata": {},
   "outputs": [],
   "source": [
    "arr1 = [1,2,3,4,5,6,7]\n",
    "k1 = 3"
   ]
  },
  {
   "cell_type": "code",
   "execution_count": 59,
   "metadata": {},
   "outputs": [],
   "source": [
    "assert leftRotate(arr1, k1) == [4, 5, 6, 7, 1, 2, 3]"
   ]
  },
  {
   "cell_type": "code",
   "execution_count": null,
   "metadata": {},
   "outputs": [],
   "source": [
    "assert rightRotate(arr1, k1) == [5, 6, 7, 1, 2, 3, 4]"
   ]
  }
 ],
 "metadata": {
  "kernelspec": {
   "display_name": "Python 3",
   "language": "python",
   "name": "python3"
  },
  "language_info": {
   "codemirror_mode": {
    "name": "ipython",
    "version": 3
   },
   "file_extension": ".py",
   "mimetype": "text/x-python",
   "name": "python",
   "nbconvert_exporter": "python",
   "pygments_lexer": "ipython3",
   "version": "3.7.3"
  }
 },
 "nbformat": 4,
 "nbformat_minor": 2
}
