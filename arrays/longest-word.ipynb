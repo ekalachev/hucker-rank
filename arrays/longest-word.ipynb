{
 "cells": [
  {
   "cell_type": "markdown",
   "metadata": {},
   "source": [
    "# Longest Word\n",
    "Have the function longestWord(sen) take the sen parameter being passed and return the largest word in the string. If there are two or more words that are the same length, return the first word from the string with that length. Ignore punctuation and assume sen will not be empty. \n",
    "\n",
    "### Cases 1:\n",
    "Input:\"fun&!! time\"\n",
    "\n",
    "Output:\"time\"\n",
    "\n",
    "### Cases 2:\n",
    "Input:\"I love dogs\"\n",
    "\n",
    "Output:\"love\""
   ]
  },
  {
   "cell_type": "markdown",
   "metadata": {},
   "source": [
    "### Solution:\n",
    "Using regular expression find a word and after each word skip the length of this word. If a length of this word is greater than max, then max = word"
   ]
  },
  {
   "cell_type": "code",
   "execution_count": 39,
   "metadata": {},
   "outputs": [],
   "source": [
    "import re"
   ]
  },
  {
   "cell_type": "code",
   "execution_count": 40,
   "metadata": {},
   "outputs": [],
   "source": [
    "def longestWord(sen: str) -> str: \n",
    "    index = 0\n",
    "    max = \"\"   \n",
    "    while index < len(sen):\n",
    "        m = re.match('\\w+', sen[index:])\n",
    "        if m is not None:\n",
    "            word = m.group(0)\n",
    "            wordLen = len(word)\n",
    "            index += wordLen - 1\n",
    "            \n",
    "            if len(max) < wordLen:\n",
    "                max = word            \n",
    "            \n",
    "        index += 1\n",
    "      \n",
    "    return max"
   ]
  },
  {
   "cell_type": "code",
   "execution_count": 41,
   "metadata": {},
   "outputs": [],
   "source": [
    "assert longestWord('I love dogs') == 'love'"
   ]
  },
  {
   "cell_type": "code",
   "execution_count": 42,
   "metadata": {},
   "outputs": [],
   "source": [
    "assert longestWord('fun&!! time') == 'time'"
   ]
  },
  {
   "cell_type": "code",
   "execution_count": null,
   "metadata": {},
   "outputs": [],
   "source": []
  }
 ],
 "metadata": {
  "kernelspec": {
   "display_name": "Python 3",
   "language": "python",
   "name": "python3"
  },
  "language_info": {
   "codemirror_mode": {
    "name": "ipython",
    "version": 3
   },
   "file_extension": ".py",
   "mimetype": "text/x-python",
   "name": "python",
   "nbconvert_exporter": "python",
   "pygments_lexer": "ipython3",
   "version": "3.7.3"
  }
 },
 "nbformat": 4,
 "nbformat_minor": 2
}
