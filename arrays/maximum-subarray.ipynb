{
 "cells": [
  {
   "cell_type": "markdown",
   "metadata": {},
   "source": [
    "# Maximum Subarray\n",
    "Given an integer array nums, find the contiguous subarray (containing at least one number) which has the largest sum and return its sum.\n",
    "\n",
    "### Example:\n",
    "Input: [-2,1,-3,4,-1,2,1,-5,4],\n",
    "\n",
    "Output: 6\n",
    "\n",
    "Explanation: [4,-1,2,1] has the largest sum = 6."
   ]
  },
  {
   "cell_type": "markdown",
   "metadata": {},
   "source": [
    "## Soluton:\n",
    "For the solution of the algorithm, we can use brut force algorithm, but it has O(n^2) time complexity. The most efficient algorithm for maximum sub-arrays is Kadane's Algorithm. It has O(n) time complexity.\n",
    "\n",
    "For each element, we compute its maximum sum. We compare the value of an element and a sum of a previous element's sum. If the new sum is greater than the value of the element, then we add this sum to an array of sums, otherwise, we add the value of the element to the array of sums.\n",
    "In the end, we can find the maximum sum from the array of sums."
   ]
  },
  {
   "cell_type": "code",
   "execution_count": 2,
   "metadata": {},
   "outputs": [],
   "source": [
    "from typing import List"
   ]
  },
  {
   "cell_type": "code",
   "execution_count": 3,
   "metadata": {},
   "outputs": [],
   "source": [
    "def maxSubArray(nums: List[int]) -> int:\n",
    "    if nums is None or len(nums) == 0:\n",
    "        return 0\n",
    "\n",
    "    sums: List[int] = []    \n",
    "\n",
    "    for i in range(len(nums)):\n",
    "        prevSum = 0\n",
    "\n",
    "        if len(sums) > 0:\n",
    "            prevSum = sums[len(sums) - 1]\n",
    "\n",
    "        newSum = prevSum + nums[i]\n",
    "\n",
    "        if newSum > nums[i]:\n",
    "            sums.append(newSum)\n",
    "        else:\n",
    "            sums.append(nums[i])\n",
    "\n",
    "    return max(sums)"
   ]
  },
  {
   "cell_type": "code",
   "execution_count": 4,
   "metadata": {},
   "outputs": [],
   "source": [
    "assert maxSubArray([-2,1,-3,4,-1,2,1,-5,4]) == 6"
   ]
  },
  {
   "cell_type": "markdown",
   "metadata": {},
   "source": [
    "## Solution 2:\n",
    "This solution works faster and takes less space complexity"
   ]
  },
  {
   "cell_type": "code",
   "execution_count": 5,
   "metadata": {},
   "outputs": [],
   "source": [
    "def maxSubArray2(nums: List[int]) -> int:\n",
    "    if nums is None or len(nums) == 0:\n",
    "        return 0\n",
    "    \n",
    "    maxSum = nums[0]   \n",
    "    newSum = 0\n",
    "    \n",
    "    for num in nums:\n",
    "        newSum += num\n",
    "        \n",
    "        if newSum > maxSum:\n",
    "            maxSum = newSum\n",
    "        if newSum < 0:\n",
    "            newSum = 0\n",
    "\n",
    "    return maxSum"
   ]
  },
  {
   "cell_type": "code",
   "execution_count": 6,
   "metadata": {},
   "outputs": [],
   "source": [
    "assert maxSubArray2([-2,1,-3,4,-1,2,1,-5,4]) == 6"
   ]
  },
  {
   "cell_type": "code",
   "execution_count": null,
   "metadata": {},
   "outputs": [],
   "source": []
  }
 ],
 "metadata": {
  "kernelspec": {
   "display_name": "Python 3",
   "language": "python",
   "name": "python3"
  },
  "language_info": {
   "codemirror_mode": {
    "name": "ipython",
    "version": 3
   },
   "file_extension": ".py",
   "mimetype": "text/x-python",
   "name": "python",
   "nbconvert_exporter": "python",
   "pygments_lexer": "ipython3",
   "version": "3.7.3"
  }
 },
 "nbformat": 4,
 "nbformat_minor": 2
}
