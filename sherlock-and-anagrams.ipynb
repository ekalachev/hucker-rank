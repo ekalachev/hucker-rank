{
 "cells": [
  {
   "cell_type": "markdown",
   "metadata": {},
   "source": [
    "# Sherlock and Anagrams"
   ]
  },
  {
   "cell_type": "markdown",
   "metadata": {},
   "source": [
    "Two strings are anagrams of each other if the letters of one string can be rearranged to form the other string. Given a string, find the number of pairs of substrings of the string that are anagrams of each other.\n",
    "\n",
    "For example s = mom, the list of all anagrammatic pairs is [m, m], [mo, om] at positions [[0], [2]], [[0, 1], [1, 2]] respectively.\n",
    "\n",
    "abba: [a, a], [ab, ba], [b, b], [abb, bba] at positions: [[0], [3]], [[0, 1], [2, 3]], [[1], [2]], [[0, 1, 2], [1, 2, 3]] respectively.\n",
    "\n",
    "abcd: No anagrammatic pairs exist in the second query as no character repeats."
   ]
  },
  {
   "cell_type": "markdown",
   "metadata": {},
   "source": [
    "Arithmetic sum formula:\n",
    "\n",
    "(n / 2) * (2 * a1 + (n - 1) * d)"
   ]
  },
  {
   "cell_type": "code",
   "execution_count": 122,
   "metadata": {},
   "outputs": [],
   "source": [
    "def arithmeticSum(a1, n, d):\n",
    "    return (n / 2) * (2 * a1 + (n - 1) * d)\n",
    "\n",
    "def sherlockAndAnagrams(s):\n",
    "    d = {}\n",
    "    sub_length = 1\n",
    "    \n",
    "    while sub_length < len(s):\n",
    "        for i in range(0, len(s) - sub_length + 1):\n",
    "            sub = \"\".join(sorted(s[i:sub_length + i]))\n",
    "            \n",
    "            if sub not in d:\n",
    "                d[sub] = 0\n",
    "            \n",
    "            d[sub] += 1\n",
    "        \n",
    "        sub_length += 1\n",
    "    \n",
    "    counter = 0\n",
    "    \n",
    "    for i in d:\n",
    "        if d[i] > 1:\n",
    "            n = d[i] - 1\n",
    "            counter += arithmeticSum(1, n, 1)        \n",
    "    \n",
    "    return int(counter)"
   ]
  },
  {
   "cell_type": "markdown",
   "metadata": {},
   "source": [
    "## Tests:"
   ]
  },
  {
   "cell_type": "code",
   "execution_count": 124,
   "metadata": {},
   "outputs": [],
   "source": [
    "assert sherlockAndAnagrams(\"abba\") == 4\n",
    "assert sherlockAndAnagrams(\"kkkk\") == 10\n",
    "assert sherlockAndAnagrams(\"abcd\") == 0\n",
    "assert sherlockAndAnagrams(\"ifailuhkqq\") == 3"
   ]
  },
  {
   "cell_type": "code",
   "execution_count": null,
   "metadata": {},
   "outputs": [],
   "source": []
  }
 ],
 "metadata": {
  "kernelspec": {
   "display_name": "Python 3",
   "language": "python",
   "name": "python3"
  },
  "language_info": {
   "codemirror_mode": {
    "name": "ipython",
    "version": 3
   },
   "file_extension": ".py",
   "mimetype": "text/x-python",
   "name": "python",
   "nbconvert_exporter": "python",
   "pygments_lexer": "ipython3",
   "version": "3.7.3"
  }
 },
 "nbformat": 4,
 "nbformat_minor": 2
}
