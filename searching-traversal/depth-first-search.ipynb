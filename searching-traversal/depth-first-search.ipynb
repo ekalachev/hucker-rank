{
 "cells": [
  {
   "cell_type": "markdown",
   "metadata": {},
   "source": [
    "# Depth first search"
   ]
  },
  {
   "cell_type": "code",
   "execution_count": 1,
   "metadata": {},
   "outputs": [],
   "source": [
    "from binarytree import Node"
   ]
  },
  {
   "cell_type": "code",
   "execution_count": 13,
   "metadata": {},
   "outputs": [],
   "source": [
    "class BinarySearchTree():\n",
    "    def __init__(self):\n",
    "        self.root = None\n",
    "    \n",
    "    def insert(self, value):\n",
    "        node = Node(value);\n",
    "        \n",
    "        if self.root is None:\n",
    "            self.root = node\n",
    "        else:\n",
    "            current = self.root;\n",
    "            \n",
    "            while current is not None:\n",
    "                if current.value > value:\n",
    "                    if current.left is None:\n",
    "                        current.left = node\n",
    "                        break\n",
    "                    current = current.left\n",
    "                else:\n",
    "                    if current.right is None:\n",
    "                        current.right = node\n",
    "                        break\n",
    "                    current = current.right\n",
    "    \n",
    "    # in ordered: [1, 4, 6, 9, 15, 20, 170]\n",
    "    def DFS_in_order(self):\n",
    "        return self.traverse_in_order(self.root, [])\n",
    "    \n",
    "    def traverse_in_order(self, node, arr):\n",
    "        if node.left is not None:\n",
    "            self.traverse_in_order(node.left, arr)\n",
    "            \n",
    "        arr.append(node.value)\n",
    "        \n",
    "        if node.right is not None:\n",
    "            self.traverse_in_order(node.right, arr)\n",
    "        \n",
    "        return arr\n",
    "    \n",
    "    # pre ordered: [9, 4, 1, 6, 20, 15, 170]\n",
    "    def DFS_pre_order(self):\n",
    "        return self.traverse_pre_order(self.root, [])\n",
    "    \n",
    "    def traverse_pre_order(self, node, arr):\n",
    "        arr.append(node.value)\n",
    "        \n",
    "        if node.left is not None:\n",
    "            self.traverse_pre_order(node.left, arr)\n",
    "        \n",
    "        if node.right is not None:\n",
    "            self.traverse_pre_order(node.right, arr)\n",
    "        \n",
    "        return arr\n",
    "    \n",
    "    # post ordered: [1, 6, 4, 15, 170, 20, 9]\n",
    "    def DFS_post_order(self):\n",
    "        return self.traverse_post_order(self.root, [])\n",
    "    \n",
    "    def traverse_post_order(self, node, arr):       \n",
    "        if node.left is not None:\n",
    "            self.traverse_post_order(node.left, arr)\n",
    "        \n",
    "        if node.right is not None:\n",
    "            self.traverse_post_order(node.right, arr)\n",
    "        \n",
    "        arr.append(node.value)\n",
    "        \n",
    "        return arr"
   ]
  },
  {
   "cell_type": "code",
   "execution_count": 14,
   "metadata": {},
   "outputs": [
    {
     "name": "stdout",
     "output_type": "stream",
     "text": [
      "\n",
      "    __9___\n",
      "   /      \\\n",
      "  4       _20_\n",
      " / \\     /    \\\n",
      "1   6   15    170\n",
      "\n"
     ]
    }
   ],
   "source": [
    "tree = BinarySearchTree()\n",
    "tree.insert(9)\n",
    "tree.insert(4)\n",
    "tree.insert(6)\n",
    "tree.insert(20)\n",
    "tree.insert(170)\n",
    "tree.insert(15)\n",
    "tree.insert(1)\n",
    "\n",
    "print(tree.root)"
   ]
  },
  {
   "cell_type": "code",
   "execution_count": 16,
   "metadata": {},
   "outputs": [],
   "source": [
    "assert tree.DFS_in_order() == [1, 4, 6, 9, 15, 20, 170]\n",
    "assert tree.DFS_pre_order() == [9, 4, 1, 6, 20, 15, 170]\n",
    "assert tree.DFS_post_order() == [1, 6, 4, 15, 170, 20, 9]"
   ]
  },
  {
   "cell_type": "code",
   "execution_count": null,
   "metadata": {},
   "outputs": [],
   "source": []
  }
 ],
 "metadata": {
  "kernelspec": {
   "display_name": "Python 3",
   "language": "python",
   "name": "python3"
  },
  "language_info": {
   "codemirror_mode": {
    "name": "ipython",
    "version": 3
   },
   "file_extension": ".py",
   "mimetype": "text/x-python",
   "name": "python",
   "nbconvert_exporter": "python",
   "pygments_lexer": "ipython3",
   "version": "3.7.3"
  }
 },
 "nbformat": 4,
 "nbformat_minor": 2
}
