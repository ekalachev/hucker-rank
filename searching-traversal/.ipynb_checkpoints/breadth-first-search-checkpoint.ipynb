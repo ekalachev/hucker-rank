{
 "cells": [
  {
   "cell_type": "markdown",
   "metadata": {},
   "source": [
    "# Breadth first search"
   ]
  },
  {
   "cell_type": "code",
   "execution_count": 1,
   "metadata": {},
   "outputs": [],
   "source": [
    "from binarytree import Node"
   ]
  },
  {
   "cell_type": "code",
   "execution_count": 2,
   "metadata": {},
   "outputs": [],
   "source": [
    "class BinarySearchTree():\n",
    "    def __init__(self):\n",
    "        self.root = None\n",
    "    \n",
    "    def insert(self, value):\n",
    "        node = Node(value);\n",
    "        \n",
    "        if self.root is None:\n",
    "            self.root = node\n",
    "        else:\n",
    "            current = self.root;\n",
    "            \n",
    "            while current is not None:\n",
    "                if current.value > value:\n",
    "                    if current.left is None:\n",
    "                        current.left = node\n",
    "                        break\n",
    "                    current = current.left\n",
    "                else:\n",
    "                    if current.right is None:\n",
    "                        current.right = node\n",
    "                        break\n",
    "                    current = current.right\n",
    "    \n",
    "    def breadth_first_search(self):\n",
    "        current_node = self.root\n",
    "        arr = []\n",
    "        queue = []\n",
    "        \n",
    "        queue.append(current_node)\n",
    "        \n",
    "        while len(queue) > 0:\n",
    "            current_node = queue.pop(0)\n",
    "            arr.append(current_node.value)\n",
    "            \n",
    "            if current_node.left is not None:\n",
    "                queue.append(current_node.left)\n",
    "            if current_node.right is not None:\n",
    "                queue.append(current_node.right)\n",
    "        \n",
    "        return arr\n",
    "    \n",
    "    def breadth_first_search_recursion(self):\n",
    "        current_node = self.root\n",
    "        arr = []\n",
    "        queue = []\n",
    "        queue.append(self.root)\n",
    "        \n",
    "        return self.breadth_first_search_rec(queue, arr)\n",
    "    \n",
    "    def breadth_first_search_rec(self, queue, arr):\n",
    "        if len(queue) == 0:\n",
    "            return arr\n",
    "        \n",
    "        current_node = queue.pop(0)\n",
    "        arr.append(current_node.value)\n",
    "        \n",
    "        if current_node.left is not None:\n",
    "            queue.append(current_node.left)\n",
    "        if current_node.right is not None:\n",
    "            queue.append(current_node.right)\n",
    "        \n",
    "        return self.breadth_first_search_rec(queue, arr)"
   ]
  },
  {
   "cell_type": "code",
   "execution_count": 6,
   "metadata": {},
   "outputs": [],
   "source": [
    "tree = BinarySearchTree()\n",
    "tree.insert(9)\n",
    "tree.insert(4)\n",
    "tree.insert(6)\n",
    "tree.insert(20)\n",
    "tree.insert(170)\n",
    "tree.insert(15)\n",
    "tree.insert(1)"
   ]
  },
  {
   "cell_type": "code",
   "execution_count": 7,
   "metadata": {},
   "outputs": [
    {
     "name": "stdout",
     "output_type": "stream",
     "text": [
      "\n",
      "    __9___\n",
      "   /      \\\n",
      "  4       _20_\n",
      " / \\     /    \\\n",
      "1   6   15    170\n",
      "\n"
     ]
    }
   ],
   "source": [
    "print(tree.root)"
   ]
  },
  {
   "cell_type": "code",
   "execution_count": 8,
   "metadata": {},
   "outputs": [],
   "source": [
    "assert tree.breadth_first_search_recursion() == [9, 4, 20, 1, 6, 15, 170]\n",
    "assert tree.breadth_first_search() == [9, 4, 20, 1, 6, 15, 170]"
   ]
  },
  {
   "cell_type": "code",
   "execution_count": null,
   "metadata": {},
   "outputs": [],
   "source": []
  }
 ],
 "metadata": {
  "kernelspec": {
   "display_name": "Python 3",
   "language": "python",
   "name": "python3"
  },
  "language_info": {
   "codemirror_mode": {
    "name": "ipython",
    "version": 3
   },
   "file_extension": ".py",
   "mimetype": "text/x-python",
   "name": "python",
   "nbconvert_exporter": "python",
   "pygments_lexer": "ipython3",
   "version": "3.7.3"
  }
 },
 "nbformat": 4,
 "nbformat_minor": 2
}
