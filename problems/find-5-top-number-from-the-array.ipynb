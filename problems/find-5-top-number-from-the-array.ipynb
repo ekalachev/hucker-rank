{
 "cells": [
  {
   "cell_type": "markdown",
   "metadata": {},
   "source": [
    "# Find 5 top number from the array"
   ]
  },
  {
   "cell_type": "markdown",
   "metadata": {},
   "source": [
    "- Time complexity has to be O(n)"
   ]
  },
  {
   "cell_type": "code",
   "execution_count": 19,
   "metadata": {},
   "outputs": [],
   "source": [
    "arr = [1,4,5,2,3,7,8,9,5,3,4,5,6,7,8,9,0,1,2,3,4,7,8,4,5]"
   ]
  },
  {
   "cell_type": "code",
   "execution_count": 20,
   "metadata": {},
   "outputs": [],
   "source": [
    "import sys"
   ]
  },
  {
   "cell_type": "code",
   "execution_count": 21,
   "metadata": {},
   "outputs": [],
   "source": [
    "min_val = -sys.maxsize\n",
    "max_five = [min_val, min_val, min_val, min_val, min_val]\n",
    "\n",
    "for i in range(len(arr)):\n",
    "    if max_five[0] < arr[i]:\n",
    "        max_five[4] = max_five[3]\n",
    "        max_five[3] = max_five[2]\n",
    "        max_five[2] = max_five[1]\n",
    "        max_five[1] = max_five[0]\n",
    "        max_five[0] = arr[i]\n",
    "    elif max_five[1] < arr[i]:\n",
    "        max_five[4] = max_five[3]\n",
    "        max_five[3] = max_five[2]\n",
    "        max_five[2] = max_five[1]\n",
    "        max_five[1] = arr[i]\n",
    "    elif max_five[2] < arr[i]:\n",
    "        max_five[4] = max_five[3]\n",
    "        max_five[3] = max_five[2]\n",
    "        max_five[2] = arr[i]\n",
    "    elif max_five[3] < arr[i]:\n",
    "        max_five[4] = max_five[3]\n",
    "        max_five[3] = arr[i]\n",
    "    elif max_five[4] < arr[i]:\n",
    "        max_five[4] = arr[i]"
   ]
  },
  {
   "cell_type": "code",
   "execution_count": 22,
   "metadata": {},
   "outputs": [],
   "source": [
    "assert max_five == [9, 9, 8, 8, 8]"
   ]
  },
  {
   "cell_type": "code",
   "execution_count": null,
   "metadata": {},
   "outputs": [],
   "source": []
  }
 ],
 "metadata": {
  "kernelspec": {
   "display_name": "Python 3",
   "language": "python",
   "name": "python3"
  },
  "language_info": {
   "codemirror_mode": {
    "name": "ipython",
    "version": 3
   },
   "file_extension": ".py",
   "mimetype": "text/x-python",
   "name": "python",
   "nbconvert_exporter": "python",
   "pygments_lexer": "ipython3",
   "version": "3.7.3"
  }
 },
 "nbformat": 4,
 "nbformat_minor": 2
}
