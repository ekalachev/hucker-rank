{
 "cells": [
  {
   "cell_type": "markdown",
   "metadata": {},
   "source": [
    "# FizzBuzz function"
   ]
  },
  {
   "cell_type": "code",
   "execution_count": 1,
   "metadata": {},
   "outputs": [
    {
     "name": "stdout",
     "output_type": "stream",
     "text": [
      "Fizz: 3\n",
      "Buzz: 5\n",
      "Fizz: 6\n",
      "Fizz: 9\n",
      "Buzz: 10\n"
     ]
    }
   ],
   "source": [
    "for num in range(1, 11):\n",
    "    if num % 15 == 0:\n",
    "        print(f'FizzBuzz: {num}')\n",
    "    elif num % 3 == 0:\n",
    "        print(f'Fizz: {num}')\n",
    "    elif num % 5 == 0:\n",
    "        print(f'Buzz: {num}')"
   ]
  },
  {
   "cell_type": "code",
   "execution_count": null,
   "metadata": {},
   "outputs": [],
   "source": []
  }
 ],
 "metadata": {
  "kernelspec": {
   "display_name": "Python 3",
   "language": "python",
   "name": "python3"
  },
  "language_info": {
   "codemirror_mode": {
    "name": "ipython",
    "version": 3
   },
   "file_extension": ".py",
   "mimetype": "text/x-python",
   "name": "python",
   "nbconvert_exporter": "python",
   "pygments_lexer": "ipython3",
   "version": "3.7.4"
  }
 },
 "nbformat": 4,
 "nbformat_minor": 2
}
