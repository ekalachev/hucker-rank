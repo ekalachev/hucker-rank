{
 "cells": [
  {
   "cell_type": "markdown",
   "metadata": {},
   "source": [
    "# Fibonacci number"
   ]
  },
  {
   "cell_type": "markdown",
   "metadata": {},
   "source": [
    "### This recursive approach is not efficient:"
   ]
  },
  {
   "cell_type": "markdown",
   "metadata": {},
   "source": [
    "The time complexity: O(2^n)"
   ]
  },
  {
   "cell_type": "code",
   "execution_count": 45,
   "metadata": {},
   "outputs": [],
   "source": [
    "def fibonacci_number_recursive(number):\n",
    "    if number < 2:\n",
    "        return number\n",
    "    \n",
    "    return fibonacci_number_recursive(number - 1) + fibonacci_number_recursive(number - 2)"
   ]
  },
  {
   "cell_type": "code",
   "execution_count": 60,
   "metadata": {},
   "outputs": [
    {
     "name": "stdout",
     "output_type": "stream",
     "text": [
      "0 = 0\n",
      "1 = 1\n",
      "2 = 1\n",
      "3 = 2\n",
      "4 = 3\n",
      "5 = 5\n"
     ]
    }
   ],
   "source": [
    "for i in range(0, 6):\n",
    "    print(\"{} = {}\".format(i, fibonacci_number_recursive(i)))"
   ]
  },
  {
   "cell_type": "markdown",
   "metadata": {},
   "source": [
    "### Next two approach are efficient:"
   ]
  },
  {
   "cell_type": "markdown",
   "metadata": {},
   "source": [
    "#### Recurcive approach:"
   ]
  },
  {
   "cell_type": "markdown",
   "metadata": {},
   "source": [
    "The time complexity: O(n)"
   ]
  },
  {
   "cell_type": "code",
   "execution_count": 49,
   "metadata": {},
   "outputs": [],
   "source": [
    "def fibonacci_number_recursive(number):\n",
    "    if number < 2:\n",
    "        return number\n",
    "    \n",
    "    return fibonacci_number_rec(number, 2, 0, 1)\n",
    "\n",
    "def fibonacci_number_rec(number, current_number, prev, current):\n",
    "    if number == current_number:\n",
    "        return prev + current\n",
    "    \n",
    "    prev, current = current, prev + current\n",
    "    current_number += 1\n",
    "    \n",
    "    return fibonacci_number_rec(number, current_number, prev, current)"
   ]
  },
  {
   "cell_type": "code",
   "execution_count": 59,
   "metadata": {},
   "outputs": [
    {
     "name": "stdout",
     "output_type": "stream",
     "text": [
      "0 = 0\n",
      "1 = 1\n",
      "2 = 1\n",
      "3 = 2\n",
      "4 = 3\n",
      "5 = 5\n"
     ]
    }
   ],
   "source": [
    "for i in range(0, 6):\n",
    "    print(\"{} = {}\".format(i, fibonacci_number_recursive(i)))"
   ]
  },
  {
   "cell_type": "markdown",
   "metadata": {},
   "source": [
    "#### Сyclic approach:"
   ]
  },
  {
   "cell_type": "markdown",
   "metadata": {},
   "source": [
    "The time complexity: O(n)\n",
    "\n",
    "The space complexity: O(1)"
   ]
  },
  {
   "cell_type": "code",
   "execution_count": 62,
   "metadata": {},
   "outputs": [],
   "source": [
    "def fibonacci_number(number):\n",
    "    if number < 2:\n",
    "        return number\n",
    "    \n",
    "    prev = 1\n",
    "    current = 1\n",
    "    \n",
    "    for i in range(3, number + 1):\n",
    "        prev, current = current, prev + current\n",
    "    \n",
    "    return current"
   ]
  },
  {
   "cell_type": "code",
   "execution_count": 63,
   "metadata": {},
   "outputs": [
    {
     "name": "stdout",
     "output_type": "stream",
     "text": [
      "0 = 0\n",
      "1 = 1\n",
      "2 = 1\n",
      "3 = 2\n",
      "4 = 3\n",
      "5 = 5\n"
     ]
    }
   ],
   "source": [
    "for i in range(0, 6):\n",
    "    print(\"{} = {}\".format(i, fibonacci_number(i)))"
   ]
  },
  {
   "cell_type": "code",
   "execution_count": null,
   "metadata": {},
   "outputs": [],
   "source": []
  }
 ],
 "metadata": {
  "kernelspec": {
   "display_name": "Python 3",
   "language": "python",
   "name": "python3"
  },
  "language_info": {
   "codemirror_mode": {
    "name": "ipython",
    "version": 3
   },
   "file_extension": ".py",
   "mimetype": "text/x-python",
   "name": "python",
   "nbconvert_exporter": "python",
   "pygments_lexer": "ipython3",
   "version": "3.7.3"
  }
 },
 "nbformat": 4,
 "nbformat_minor": 2
}
