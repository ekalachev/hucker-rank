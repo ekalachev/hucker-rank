{
 "cells": [
  {
   "cell_type": "markdown",
   "metadata": {},
   "source": [
    "# Pascal triangle. Odds for Newton's Binomial."
   ]
  },
  {
   "cell_type": "markdown",
   "metadata": {},
   "source": [
    "(a+b)^2 = 1a^2 + 2ab + 1b^2\n",
    "\n",
    "(a+b)^3 = 1a^3 + 3a^2 * b + 3ab^2 + 1b^3\n",
    "\n",
    "(a+b)^4 = a^4 * b^0 + a^3 * b^1 + a^2 * b^2 + a^1 * b^3 + a^0 * b^4 = 1a^4 + 4a^3 * b^1 + 6a^2 * b^2 + 4a^1 * b^3 + b^4"
   ]
  },
  {
   "cell_type": "code",
   "execution_count": 9,
   "metadata": {},
   "outputs": [],
   "source": [
    "def pascal_triangle(n):\n",
    "    triangle = []\n",
    "    \n",
    "    for i in range(n + 1):\n",
    "        triangle.append([1] + [0] * n)\n",
    "    \n",
    "    for i in range(1, n + 1):\n",
    "        for j in range(1, i + 1):\n",
    "            triangle[i][j] = triangle[i-1][j] + triangle[i-1][j-1]\n",
    "    \n",
    "    for i in range(0,n+1):\n",
    "        for j in range(0,i+1):\n",
    "            print(triangle[i][j],end=' ')\n",
    "        print()"
   ]
  },
  {
   "cell_type": "code",
   "execution_count": 11,
   "metadata": {},
   "outputs": [
    {
     "name": "stdout",
     "output_type": "stream",
     "text": [
      "1 \n",
      "1 1 \n",
      "1 2 1 \n",
      "1 3 3 1 \n",
      "1 4 6 4 1 \n",
      "1 5 10 10 5 1 \n",
      "1 6 15 20 15 6 1 \n",
      "1 7 21 35 35 21 7 1 \n",
      "1 8 28 56 70 56 28 8 1 \n",
      "1 9 36 84 126 126 84 36 9 1 \n",
      "1 10 45 120 210 252 210 120 45 10 1 \n"
     ]
    }
   ],
   "source": [
    "pascal_triangle(10)"
   ]
  },
  {
   "cell_type": "code",
   "execution_count": null,
   "metadata": {},
   "outputs": [],
   "source": []
  }
 ],
 "metadata": {
  "kernelspec": {
   "display_name": "Python 3",
   "language": "python",
   "name": "python3"
  },
  "language_info": {
   "codemirror_mode": {
    "name": "ipython",
    "version": 3
   },
   "file_extension": ".py",
   "mimetype": "text/x-python",
   "name": "python",
   "nbconvert_exporter": "python",
   "pygments_lexer": "ipython3",
   "version": "3.7.3"
  }
 },
 "nbformat": 4,
 "nbformat_minor": 2
}
