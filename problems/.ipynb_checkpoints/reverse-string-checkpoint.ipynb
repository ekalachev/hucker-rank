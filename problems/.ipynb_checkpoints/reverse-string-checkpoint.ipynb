{
 "cells": [
  {
   "cell_type": "markdown",
   "metadata": {},
   "source": [
    "# Reverse string"
   ]
  },
  {
   "cell_type": "markdown",
   "metadata": {},
   "source": [
    "### Cyclic approach:\n",
    "The time complexity: O(n)\n",
    "\n",
    "The space complexity: O(n)"
   ]
  },
  {
   "cell_type": "code",
   "execution_count": 16,
   "metadata": {},
   "outputs": [],
   "source": [
    "def reverse_string(string):\n",
    "    arr = list(string)\n",
    "    start_index = 0\n",
    "    end_index = len(arr) - 1\n",
    "    \n",
    "    while start_index < end_index:\n",
    "        arr[start_index], arr[end_index] = arr[end_index], arr[start_index]\n",
    "        \n",
    "        start_index += 1\n",
    "        end_index -= 1\n",
    "    \n",
    "    return \"\".join(arr)"
   ]
  },
  {
   "cell_type": "code",
   "execution_count": 17,
   "metadata": {},
   "outputs": [
    {
     "data": {
      "text/plain": [
       "'yretsam oyoy'"
      ]
     },
     "execution_count": 17,
     "metadata": {},
     "output_type": "execute_result"
    }
   ],
   "source": [
    "reverse_string('yoyo mastery')"
   ]
  },
  {
   "cell_type": "markdown",
   "metadata": {},
   "source": [
    "### Recursive approach:\n",
    "The time complexity: O(n)\n",
    "\n",
    "The space complexity: O(n)"
   ]
  },
  {
   "cell_type": "code",
   "execution_count": 18,
   "metadata": {},
   "outputs": [],
   "source": [
    "def reverse_string_recursion(string):\n",
    "    arr = list(string)\n",
    "    start_index = 0\n",
    "    end_index = len(arr) - 1\n",
    "    \n",
    "    return \"\".join(reverse_string_rec(arr, start_index, end_index))\n",
    "    \n",
    "def reverse_string_rec(arr, start_index, end_index):\n",
    "    if start_index >= end_index:\n",
    "        return arr\n",
    "    \n",
    "    arr[start_index], arr[end_index] = arr[end_index], arr[start_index]\n",
    "    start_index += 1\n",
    "    end_index -= 1\n",
    "    \n",
    "    return reverse_string_rec(arr, start_index, end_index)"
   ]
  },
  {
   "cell_type": "code",
   "execution_count": 19,
   "metadata": {},
   "outputs": [
    {
     "data": {
      "text/plain": [
       "'yretsam oyoy'"
      ]
     },
     "execution_count": 19,
     "metadata": {},
     "output_type": "execute_result"
    }
   ],
   "source": [
    "reverse_string_recursion('yoyo mastery')"
   ]
  },
  {
   "cell_type": "markdown",
   "metadata": {},
   "source": [
    "### Another recursive approach:\n",
    "The time complexity: O(n)\n",
    "\n",
    "The space complexity: O(n)"
   ]
  },
  {
   "cell_type": "code",
   "execution_count": 24,
   "metadata": {},
   "outputs": [],
   "source": [
    "def reverse_string_recursion2(string):\n",
    "    if len(string) == 0:\n",
    "        return string\n",
    "    \n",
    "    return reverse_string_recursion2(string[1:]) + string[0]"
   ]
  },
  {
   "cell_type": "code",
   "execution_count": 25,
   "metadata": {},
   "outputs": [
    {
     "data": {
      "text/plain": [
       "'yretsam oyoy'"
      ]
     },
     "execution_count": 25,
     "metadata": {},
     "output_type": "execute_result"
    }
   ],
   "source": [
    "reverse_string_recursion2('yoyo mastery')"
   ]
  },
  {
   "cell_type": "code",
   "execution_count": null,
   "metadata": {},
   "outputs": [],
   "source": []
  }
 ],
 "metadata": {
  "kernelspec": {
   "display_name": "Python 3",
   "language": "python",
   "name": "python3"
  },
  "language_info": {
   "codemirror_mode": {
    "name": "ipython",
    "version": 3
   },
   "file_extension": ".py",
   "mimetype": "text/x-python",
   "name": "python",
   "nbconvert_exporter": "python",
   "pygments_lexer": "ipython3",
   "version": "3.7.3"
  }
 },
 "nbformat": 4,
 "nbformat_minor": 2
}
