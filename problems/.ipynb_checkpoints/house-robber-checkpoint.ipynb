{
 "cells": [
  {
   "cell_type": "markdown",
   "metadata": {},
   "source": [
    "# House Robber\n",
    "You are a professional robber planning to rob houses along a street. Each house has a certain amount of money stashed, the only constraint stopping you from robbing each of them is that adjacent houses have security system connected and it will automatically contact the police if two adjacent houses were broken into on the same night.\n",
    "\n",
    "Given a list of non-negative integers representing the amount of money of each house, determine the maximum amount of money you can rob tonight without alerting the police.\n",
    "\n",
    "- Example 1:\n",
    "    - Input: [1, 2, 3, 1]\n",
    "    - Output: 4\n",
    "    - Explanation: Rob house 1 (money = 1) and then rob house 3 (money = 3).\n",
    "                 Total amount you can rob = 1 + 3 = 4.\n",
    "\n",
    "- Example 2:\n",
    "    - Input: [2, 7, 9, 3, 1]\n",
    "    - Output: 12\n",
    "    - Explanation: Rob house 1 (money = 2), rob house 3 (money = 9) and rob house 5 (money = 1).\n",
    "                 Total amount you can rob = 2 + 9 + 1 = 12."
   ]
  },
  {
   "cell_type": "code",
   "execution_count": 1,
   "metadata": {},
   "outputs": [],
   "source": [
    "def rob(nums):\n",
    "        length = len(nums)\n",
    "        \n",
    "        if length == 0:\n",
    "            return 0\n",
    "        if length == 1:\n",
    "            return nums[0]\n",
    "        \n",
    "        tmp1, tmp2, tmp3 = 0, 0, 0\n",
    "        \n",
    "        tmp1 = nums[0]\n",
    "        tmp2 = max(nums[0], nums[1])\n",
    "        maximum = tmp2\n",
    "        \n",
    "        for i in range(2, length):\n",
    "            tmp3 = max(tmp1 + nums[i], tmp2)\n",
    "            maximum = max(tmp3, maximum)\n",
    "            tmp1 = tmp2\n",
    "            tmp2 = tmp3\n",
    "        \n",
    "        return maximum"
   ]
  },
  {
   "cell_type": "code",
   "execution_count": 2,
   "metadata": {},
   "outputs": [],
   "source": [
    "assert rob([1,2,3,1]) == 4"
   ]
  },
  {
   "cell_type": "code",
   "execution_count": 3,
   "metadata": {},
   "outputs": [],
   "source": [
    "assert rob([2,7,9,3,1]) == 12"
   ]
  }
 ],
 "metadata": {
  "kernelspec": {
   "display_name": "Python 3",
   "language": "python",
   "name": "python3"
  },
  "language_info": {
   "codemirror_mode": {
    "name": "ipython",
    "version": 3
   },
   "file_extension": ".py",
   "mimetype": "text/x-python",
   "name": "python",
   "nbconvert_exporter": "python",
   "pygments_lexer": "ipython3",
   "version": "3.7.3"
  }
 },
 "nbformat": 4,
 "nbformat_minor": 2
}
