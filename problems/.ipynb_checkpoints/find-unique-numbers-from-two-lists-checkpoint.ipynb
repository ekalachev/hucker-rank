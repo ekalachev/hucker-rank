{
 "cells": [
  {
   "cell_type": "markdown",
   "metadata": {},
   "source": [
    "# Find unique numbers from two lists"
   ]
  },
  {
   "cell_type": "code",
   "execution_count": 15,
   "metadata": {},
   "outputs": [],
   "source": [
    "def find_unique(arr1, arr2):\n",
    "    d = {}\n",
    "    \n",
    "    for i in arr1:\n",
    "        d[i] = d.get(i, 0) + 1\n",
    "    \n",
    "    for i in arr2:\n",
    "        d[i] = d.get(i, 0) + 1\n",
    "    \n",
    "    result = []\n",
    "    \n",
    "    for key in d:\n",
    "        if d[key] == 1:\n",
    "            result.append(key)\n",
    "    \n",
    "    return result"
   ]
  },
  {
   "cell_type": "code",
   "execution_count": 18,
   "metadata": {},
   "outputs": [],
   "source": [
    "arr1 = [1, 4, 6, 8, 2]\n",
    "arr2 = [3, 7, 8, 2, 2, 5, 1]"
   ]
  },
  {
   "cell_type": "code",
   "execution_count": 19,
   "metadata": {},
   "outputs": [],
   "source": [
    "assert find_unique(arr1, arr2) == [4, 6, 3, 7, 5]"
   ]
  },
  {
   "cell_type": "code",
   "execution_count": null,
   "metadata": {},
   "outputs": [],
   "source": []
  }
 ],
 "metadata": {
  "kernelspec": {
   "display_name": "Python 3",
   "language": "python",
   "name": "python3"
  },
  "language_info": {
   "codemirror_mode": {
    "name": "ipython",
    "version": 3
   },
   "file_extension": ".py",
   "mimetype": "text/x-python",
   "name": "python",
   "nbconvert_exporter": "python",
   "pygments_lexer": "ipython3",
   "version": "3.7.3"
  }
 },
 "nbformat": 4,
 "nbformat_minor": 2
}
