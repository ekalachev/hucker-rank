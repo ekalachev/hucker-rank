{
 "cells": [
  {
   "cell_type": "markdown",
   "metadata": {},
   "source": [
    "# Remove duplicates"
   ]
  },
  {
   "cell_type": "markdown",
   "metadata": {},
   "source": [
    "Given a sorted array. Remove duplicates without additional space. Instead duplicates set zeros to the end of array."
   ]
  },
  {
   "cell_type": "markdown",
   "metadata": {},
   "source": [
    "The time complexity: O(n)\n",
    "\n",
    "The space complexity: O(1)"
   ]
  },
  {
   "cell_type": "code",
   "execution_count": 1,
   "metadata": {},
   "outputs": [],
   "source": [
    "arr = [1, 2, 3, 3, 3, 3, 4, 5, 5, 6, 7, 8, 9, 10, 11, 13, 13]"
   ]
  },
  {
   "cell_type": "code",
   "execution_count": 2,
   "metadata": {},
   "outputs": [],
   "source": [
    "def remove_duplicates(arr):\n",
    "    length = len(arr)\n",
    "    current = 0\n",
    "\n",
    "    # moves uniq elements to current position\n",
    "    for i in range(length):\n",
    "        if length == i + 1:\n",
    "            arr[current] = arr[length - 1]\n",
    "        elif arr[i] != arr[i + 1]:\n",
    "            arr[current] = arr[i]\n",
    "            current += 1\n",
    "\n",
    "    # sets zeros to the end of array\n",
    "    for i in range(current + 1, len(arr)):\n",
    "        arr[i] = 0"
   ]
  },
  {
   "cell_type": "code",
   "execution_count": 3,
   "metadata": {},
   "outputs": [
    {
     "name": "stdout",
     "output_type": "stream",
     "text": [
      "[1, 2, 3, 4, 5, 6, 7, 8, 9, 10, 11, 13, 0, 0, 0, 0, 0]\n"
     ]
    }
   ],
   "source": [
    "remove_duplicates(arr)\n",
    "print(arr)"
   ]
  },
  {
   "cell_type": "code",
   "execution_count": null,
   "metadata": {},
   "outputs": [],
   "source": []
  }
 ],
 "metadata": {
  "kernelspec": {
   "display_name": "Python 3",
   "language": "python",
   "name": "python3"
  },
  "language_info": {
   "codemirror_mode": {
    "name": "ipython",
    "version": 3
   },
   "file_extension": ".py",
   "mimetype": "text/x-python",
   "name": "python",
   "nbconvert_exporter": "python",
   "pygments_lexer": "ipython3",
   "version": "3.7.3"
  }
 },
 "nbformat": 4,
 "nbformat_minor": 2
}
