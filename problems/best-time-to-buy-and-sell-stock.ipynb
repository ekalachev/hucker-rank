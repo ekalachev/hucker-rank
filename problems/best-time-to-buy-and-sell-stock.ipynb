{
 "cells": [
  {
   "cell_type": "markdown",
   "metadata": {},
   "source": [
    "# Best Time to Buy and Sell Stock (Dynamic programming)\n",
    "Say you have an array for which the ith element is the price of a given stock on day i.\n",
    "\n",
    "If you were only permitted to complete at most one transaction (i.e., buy one and sell one share of the stock), design an algorithm to find the maximum profit.\n",
    "\n",
    "Note that you cannot sell a stock before you buy one.\n",
    "\n",
    "- Example 1:\n",
    "    - Input: [7,1,5,3,6,4]\n",
    "    - Output: 5\n",
    "    - Explanation: Buy on day 2 (price = 1) and sell on day 5 (price = 6), profit = 6-1 = 5.\n",
    "                 Not 7-1 = 6, as selling price needs to be larger than buying price.\n",
    "- Example 2:\n",
    "    - Input: [7,6,4,3,1]\n",
    "    - Output: 0\n",
    "    - Explanation: In this case, no transaction is done, i.e. max profit = 0."
   ]
  },
  {
   "cell_type": "code",
   "execution_count": 7,
   "metadata": {},
   "outputs": [],
   "source": [
    "import heapq\n",
    "\n",
    "def max_profit(prices):\n",
    "    if not prices or len(prices) == 1:\n",
    "        return 0\n",
    "\n",
    "    min_pos = 0\n",
    "    if prices[0] > prices[1]:\n",
    "        min_pos = 1\n",
    "\n",
    "    maxh = [0]\n",
    "\n",
    "    for i in range(min_pos + 1, len(prices)):\n",
    "        if prices[i] > prices[min_pos]:\n",
    "            heapq.heappush(maxh, -(prices[i] - prices[min_pos]))\n",
    "        elif prices[i] < prices[min_pos]:\n",
    "            min_pos = i\n",
    "\n",
    "    return -heapq.heappop(maxh)"
   ]
  },
  {
   "cell_type": "code",
   "execution_count": 8,
   "metadata": {},
   "outputs": [],
   "source": [
    "assert max_profit([7,1,5,3,6,4]) == 5"
   ]
  },
  {
   "cell_type": "code",
   "execution_count": 9,
   "metadata": {},
   "outputs": [],
   "source": [
    "assert max_profit([7,6,4,3,1]) == 0"
   ]
  },
  {
   "cell_type": "code",
   "execution_count": null,
   "metadata": {},
   "outputs": [],
   "source": []
  }
 ],
 "metadata": {
  "kernelspec": {
   "display_name": "Python 3",
   "language": "python",
   "name": "python3"
  },
  "language_info": {
   "codemirror_mode": {
    "name": "ipython",
    "version": 3
   },
   "file_extension": ".py",
   "mimetype": "text/x-python",
   "name": "python",
   "nbconvert_exporter": "python",
   "pygments_lexer": "ipython3",
   "version": "3.7.3"
  }
 },
 "nbformat": 4,
 "nbformat_minor": 2
}
