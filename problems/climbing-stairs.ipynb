{
 "cells": [
  {
   "cell_type": "markdown",
   "metadata": {},
   "source": [
    "# Climbing Stairs (dynamic programming)\n",
    "You are climbing a stair case. It takes n steps to reach to the top.\n",
    "\n",
    "Each time you can either climb **1 or 2** steps. In how many distinct ways can you climb to the top?\n",
    "\n",
    "Note: Given n will be a positive integer.\n",
    "\n",
    "- Example 1:\n",
    "    - Input: 2\n",
    "    - Output: 2\n",
    "    - Explanation: There are two ways to climb to the top.\n",
    "        1. 1 step + 1 step\n",
    "        2. 2 steps\n",
    "\n",
    "\n",
    "- Example 2:\n",
    "    - Input: 3\n",
    "    - Output: 3\n",
    "    - Explanation: There are three ways to climb to the top.\n",
    "        1. 1 step + 1 step + 1 step\n",
    "        2. 1 step + 2 steps\n",
    "        3. 2 steps + 1 step"
   ]
  },
  {
   "cell_type": "code",
   "execution_count": 13,
   "metadata": {},
   "outputs": [],
   "source": [
    "def climb_stairs(n):\n",
    "    if n < 4:\n",
    "        return n\n",
    "\n",
    "    prev = 1\n",
    "    current = 2\n",
    "\n",
    "    # use Fibonacci sequence\n",
    "    for i in range(2, n):\n",
    "        prev, current = current, prev + current\n",
    "\n",
    "    return current"
   ]
  },
  {
   "cell_type": "code",
   "execution_count": 14,
   "metadata": {},
   "outputs": [],
   "source": [
    "assert climb_stairs(2) == 2"
   ]
  },
  {
   "cell_type": "code",
   "execution_count": 15,
   "metadata": {},
   "outputs": [],
   "source": [
    "assert climb_stairs(3) == 3"
   ]
  },
  {
   "cell_type": "code",
   "execution_count": 16,
   "metadata": {},
   "outputs": [],
   "source": [
    "assert climb_stairs(10) == 89"
   ]
  },
  {
   "cell_type": "code",
   "execution_count": 17,
   "metadata": {},
   "outputs": [],
   "source": [
    "assert climb_stairs(20) == 10946"
   ]
  },
  {
   "cell_type": "code",
   "execution_count": null,
   "metadata": {},
   "outputs": [],
   "source": []
  }
 ],
 "metadata": {
  "kernelspec": {
   "display_name": "Python 3",
   "language": "python",
   "name": "python3"
  },
  "language_info": {
   "codemirror_mode": {
    "name": "ipython",
    "version": 3
   },
   "file_extension": ".py",
   "mimetype": "text/x-python",
   "name": "python",
   "nbconvert_exporter": "python",
   "pygments_lexer": "ipython3",
   "version": "3.7.3"
  }
 },
 "nbformat": 4,
 "nbformat_minor": 2
}
