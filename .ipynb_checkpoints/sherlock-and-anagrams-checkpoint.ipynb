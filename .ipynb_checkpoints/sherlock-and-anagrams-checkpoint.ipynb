{
 "cells": [
  {
   "cell_type": "markdown",
   "metadata": {},
   "source": [
    "# Sherlock and Anagrams"
   ]
  },
  {
   "cell_type": "markdown",
   "metadata": {},
   "source": [
    "Two strings are anagrams of each other if the letters of one string can be rearranged to form the other string. Given a string, find the number of pairs of substrings of the string that are anagrams of each other.\n",
    "\n",
    "For example s = mom, the list of all anagrammatic pairs is [m, m], [mo, om] at positions [[0], [2]], [[0, 1], [1, 2]] respectively.\n",
    "\n",
    "abba: [a, a], [ab, ba], [b, b], [abb, bba] at positions: [[0], [3]], [[0, 1], [2, 3]], [[1], [2]], [[0, 1, 2], [1, 2, 3]] respectively.\n",
    "\n",
    "abcd: No anagrammatic pairs exist in the second query as no character repeats."
   ]
  },
  {
   "cell_type": "code",
   "execution_count": 20,
   "metadata": {},
   "outputs": [
    {
     "name": "stdout",
     "output_type": "stream",
     "text": [
      "a\n",
      "b\n",
      "b\n",
      "a\n",
      "---\n",
      "ab\n",
      "bb\n",
      "ba\n",
      "---\n",
      "abb\n",
      "bba\n",
      "---\n",
      "{'a': 2, 'b': 2, 'ab': 1, 'bb': 1, 'ba': 1, 'abb': 1, 'bba': 1}\n",
      "k\n",
      "k\n",
      "k\n",
      "k\n",
      "---\n",
      "kk\n",
      "kk\n",
      "kk\n",
      "---\n",
      "kkk\n",
      "kkk\n",
      "---\n",
      "{'k': 4, 'kk': 3, 'kkk': 2}\n"
     ]
    }
   ],
   "source": [
    "def sherlockAndAnagrams(s):\n",
    "    d = {}\n",
    "    length = 1\n",
    "    \n",
    "    while length < len(s):\n",
    "        for i in range(0, len(s)):\n",
    "            str = s[i:length + i]\n",
    "            \n",
    "            print(str)\n",
    "            \n",
    "            if str not in d:\n",
    "                d[str] = 0\n",
    "            \n",
    "            d[str] += 1\n",
    "            \n",
    "            if i + length >= len(s):\n",
    "                break\n",
    "        \n",
    "        length += 1\n",
    "        print(\"---\")\n",
    "    \n",
    "    print(d)\n",
    "\n",
    "sherlockAndAnagrams(\"abba\")\n",
    "sherlockAndAnagrams(\"kkkk\")"
   ]
  },
  {
   "cell_type": "code",
   "execution_count": null,
   "metadata": {},
   "outputs": [],
   "source": []
  }
 ],
 "metadata": {
  "kernelspec": {
   "display_name": "Python 3",
   "language": "python",
   "name": "python3"
  },
  "language_info": {
   "codemirror_mode": {
    "name": "ipython",
    "version": 3
   },
   "file_extension": ".py",
   "mimetype": "text/x-python",
   "name": "python",
   "nbconvert_exporter": "python",
   "pygments_lexer": "ipython3",
   "version": "3.7.3"
  }
 },
 "nbformat": 4,
 "nbformat_minor": 2
}
