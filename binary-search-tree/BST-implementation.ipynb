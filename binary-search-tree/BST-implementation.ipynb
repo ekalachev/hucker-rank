{
 "cells": [
  {
   "cell_type": "markdown",
   "metadata": {},
   "source": [
    "# Binary search tree"
   ]
  },
  {
   "cell_type": "code",
   "execution_count": 1,
   "metadata": {},
   "outputs": [],
   "source": [
    "from binarytree import Node"
   ]
  },
  {
   "cell_type": "code",
   "execution_count": 16,
   "metadata": {},
   "outputs": [],
   "source": [
    "class BinarySearchTree():\n",
    "    def __init__(self):\n",
    "        self.root = None\n",
    "    \n",
    "    def insert(self, value):\n",
    "        node = Node(value);\n",
    "        \n",
    "        if self.root is None:\n",
    "            self.root = node\n",
    "        else:\n",
    "            current = self.root;\n",
    "            \n",
    "            while current is not None:\n",
    "                if current.value > value:\n",
    "                    if current.left is None:\n",
    "                        current.left = node\n",
    "                        break\n",
    "                    current = current.left\n",
    "                else:\n",
    "                    if current.right is None:\n",
    "                        current.right = node\n",
    "                        break\n",
    "                    current = current.right\n",
    "    \n",
    "    def lookup(self, value):\n",
    "        current = self.root\n",
    "        \n",
    "        while current:\n",
    "            if current.value == value:\n",
    "                return current\n",
    "            elif current.value > value:\n",
    "                current = current.left\n",
    "            else:\n",
    "                current = current.right\n",
    "        \n",
    "        return None\n",
    "\n",
    "    def remove(self, value):\n",
    "        if self.root is None:\n",
    "            return\n",
    "        \n",
    "        current = self.root\n",
    "        parent = None\n",
    "        \n",
    "        while current is not None:\n",
    "            if value < current.value:\n",
    "                parent = current\n",
    "                current = current.left\n",
    "            elif value > current.value:\n",
    "                parent = current\n",
    "                current = current.right\n",
    "            elif current.value == value:\n",
    "                if current.right is None: # No right child\n",
    "                    if parent is None:\n",
    "                        self.root = current.left\n",
    "                    else:\n",
    "                        if current.value < parent.value:\n",
    "                            parent.left = current.left\n",
    "                        elif current.value > parent.value:\n",
    "                            parent.right = current.left\n",
    "                elif current.right.left is None: # Right child which does not have a left child\n",
    "                    current.right.left = current.left\n",
    "                    if parent is None:\n",
    "                        self.root = current.right\n",
    "                    else:\n",
    "                        if current.value < parent.value:\n",
    "                            parent.left = current.right\n",
    "                        elif current.value > parent.value:\n",
    "                            parent.right = current.right\n",
    "                else: # Right child that has a left child\n",
    "                    leftmost = current.right.left\n",
    "                    leftmost_parent = current.right\n",
    "                    \n",
    "                    while leftmost.left is not None:\n",
    "                        leftmost_parent = leftmost\n",
    "                        leftmost = leftmost.left\n",
    "                    \n",
    "                    leftmost_parent.left = leftmost.right\n",
    "                    leftmost.left = current.left\n",
    "                    leftmost.right = current.right\n",
    "                    \n",
    "                    if parrent is None:\n",
    "                        self.root = leftmost\n",
    "                    else:\n",
    "                        if current.value < parent.value:\n",
    "                            parent.left = leftmost\n",
    "                        elif current.value > parent.value:\n",
    "                            parent.right = leftmost\n",
    "                return"
   ]
  },
  {
   "cell_type": "code",
   "execution_count": 19,
   "metadata": {},
   "outputs": [],
   "source": [
    "tree = BinarySearchTree()\n",
    "tree.insert(9)\n",
    "tree.insert(4)\n",
    "tree.insert(6)\n",
    "tree.insert(20)\n",
    "tree.insert(170)\n",
    "tree.insert(15)\n",
    "tree.insert(1)"
   ]
  },
  {
   "cell_type": "code",
   "execution_count": 72,
   "metadata": {},
   "outputs": [
    {
     "name": "stdout",
     "output_type": "stream",
     "text": [
      "\n",
      "    __9___\n",
      "   /      \\\n",
      "  4       _20_\n",
      " / \\     /    \\\n",
      "1   6   15    170\n",
      "\n"
     ]
    }
   ],
   "source": [
    "print(tree.root)"
   ]
  },
  {
   "cell_type": "code",
   "execution_count": 73,
   "metadata": {},
   "outputs": [
    {
     "name": "stdout",
     "output_type": "stream",
     "text": [
      "\n",
      "  _20_\n",
      " /    \\\n",
      "15    170\n",
      "\n"
     ]
    }
   ],
   "source": [
    "print(tree.lookup(20))"
   ]
  },
  {
   "cell_type": "code",
   "execution_count": 74,
   "metadata": {},
   "outputs": [
    {
     "name": "stdout",
     "output_type": "stream",
     "text": [
      "\n",
      "    __9___\n",
      "   /      \\\n",
      "  4       _20\n",
      " / \\     /\n",
      "1   6   15\n",
      "\n"
     ]
    }
   ],
   "source": [
    "tree.remove(170)\n",
    "print(tree.root)"
   ]
  },
  {
   "cell_type": "code",
   "execution_count": 75,
   "metadata": {},
   "outputs": [
    {
     "name": "stdout",
     "output_type": "stream",
     "text": [
      "\n",
      "    __9\n",
      "   /   \\\n",
      "  4     15\n",
      " / \\\n",
      "1   6\n",
      "\n"
     ]
    }
   ],
   "source": [
    "tree.remove(20)\n",
    "print(tree.root)"
   ]
  },
  {
   "cell_type": "code",
   "execution_count": 76,
   "metadata": {},
   "outputs": [
    {
     "name": "stdout",
     "output_type": "stream",
     "text": [
      "\n",
      "    __15\n",
      "   /\n",
      "  4\n",
      " / \\\n",
      "1   6\n",
      "\n"
     ]
    }
   ],
   "source": [
    "tree.remove(9)\n",
    "print(tree.root)"
   ]
  },
  {
   "cell_type": "code",
   "execution_count": 77,
   "metadata": {},
   "outputs": [
    {
     "name": "stdout",
     "output_type": "stream",
     "text": [
      "\n",
      "    15\n",
      "   /\n",
      "  6\n",
      " /\n",
      "1\n",
      "\n"
     ]
    }
   ],
   "source": [
    "tree.remove(4)\n",
    "print(tree.root)"
   ]
  },
  {
   "cell_type": "code",
   "execution_count": null,
   "metadata": {},
   "outputs": [],
   "source": []
  }
 ],
 "metadata": {
  "kernelspec": {
   "display_name": "Python 3",
   "language": "python",
   "name": "python3"
  },
  "language_info": {
   "codemirror_mode": {
    "name": "ipython",
    "version": 3
   },
   "file_extension": ".py",
   "mimetype": "text/x-python",
   "name": "python",
   "nbconvert_exporter": "python",
   "pygments_lexer": "ipython3",
   "version": "3.7.3"
  }
 },
 "nbformat": 4,
 "nbformat_minor": 2
}
